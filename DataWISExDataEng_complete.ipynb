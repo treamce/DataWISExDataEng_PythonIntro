{
 "cells": [
  {
   "cell_type": "markdown",
   "id": "315a28f8-0500-43a6-a617-297256820e45",
   "metadata": {},
   "source": [
    "# DataWISE × DataEng: Python Intro Workshop\n",
    "\n",
    "Ready to dive into the world of Python?  \n",
    "\n",
    "---\n",
    "\n",
    "## 🚅 What We'll Cover\n",
    "- Some basic building blocks used in Python\n",
    "- Calling an API using a Python script\n",
    "\n",
    "---\n",
    "\n",
    "Let's get pythoning! 🐍🐍🐍\n",
    "\n",
    "\n",
    "\n",
    "\n",
    "\n"
   ]
  },
  {
   "cell_type": "markdown",
   "id": "f2cc5900-18f6-48ce-aa53-f767227de391",
   "metadata": {},
   "source": [
    "## 1. What is Python?? \n",
    "#### ... and how does it work?\n",
    "\n",
    "- Like we talked about, Python is a way we can communicate with our computer and ask it to do things for us.\n",
    "- Let's start with the simplest of Python commands - print()"
   ]
  },
  {
   "cell_type": "code",
   "execution_count": 43,
   "id": "c3d48673-9c7e-4291-b17d-9e0ac5d3a03b",
   "metadata": {},
   "outputs": [
    {
     "name": "stdout",
     "output_type": "stream",
     "text": [
      "Hello Lovely TILers!!\n"
     ]
    }
   ],
   "source": [
    "# In this cell enter your code below! ↓\n",
    "print(\"Hello Lovely TILers!!\")\n"
   ]
  },
  {
   "cell_type": "markdown",
   "id": "23ac7926-f3d1-4dbd-9fd0-8e50da25f418",
   "metadata": {},
   "source": [
    "Wow - it's like magic - but on a computer!"
   ]
  },
  {
   "cell_type": "markdown",
   "id": "b8e93652-c7b0-48e7-9705-ca6262297436",
   "metadata": {},
   "source": [
    "---\n",
    "## 2. 📦 Storing Useful Info\n",
    "### a) Variables \n",
    "A variable stores a value, so that you can use it in your code later.\n",
    "For this example - and because we will be using it later - I want to set a variable to be \"Mansion House\"\n",
    "* Name is the variable\n",
    "* \"Mansion House\" is the value\n",
    "* = means \"store this variable\"\n"
   ]
  },
  {
   "cell_type": "code",
   "execution_count": 44,
   "id": "5fb7cab8-43f9-4803-9747-9b79f1c77668",
   "metadata": {},
   "outputs": [
    {
     "name": "stdout",
     "output_type": "stream",
     "text": [
      "mansion house\n"
     ]
    }
   ],
   "source": [
    "# Enter your first variable ↓\n",
    "name = \"mansion house\"\n",
    "print(name)\n"
   ]
  },
  {
   "cell_type": "markdown",
   "id": "56cbaa85-516e-4658-907f-15f4deaa42c6",
   "metadata": {},
   "source": [
    "### b) Lists\n",
    "A list is a store of a group of values in one variable. \n",
    "We use square brackets to wrap around this list of values."
   ]
  },
  {
   "cell_type": "code",
   "execution_count": 45,
   "id": "bc8dea4b-8370-4c2a-a8bd-0f74baba9fef",
   "metadata": {},
   "outputs": [],
   "source": [
    "# Add more names of some super cool TILers here ↓\n",
    "really_cool_TILers = [\"Trea\",\"Zoe\",\"Pave\"]"
   ]
  },
  {
   "cell_type": "markdown",
   "id": "b08937f6-9df9-49bf-8f91-acfd6fb78134",
   "metadata": {},
   "source": [
    "We can then call the list based on the list order using print from earlier. \n",
    "We can even add in extra text to print too if we add it in like this \"TEXT\"...\n",
    "\n",
    "🧠Note - Python counts from 0 🧠"
   ]
  },
  {
   "cell_type": "code",
   "execution_count": 46,
   "id": "7bf939e9-3390-4bf0-8e6e-d15a1c62d934",
   "metadata": {},
   "outputs": [
    {
     "name": "stdout",
     "output_type": "stream",
     "text": [
      "Trea is the coolest TILer\n"
     ]
    }
   ],
   "source": [
    "really_cool_TILers = [\"Trea\",\"Zoe\",\"Pave\"]\n",
    "print(really_cool_TILers[0], \"is the coolest TILer\")"
   ]
  },
  {
   "cell_type": "markdown",
   "id": "fa02b07a-d6a1-468d-b809-001e3dae4d7c",
   "metadata": {},
   "source": [
    "### c) Dictionaries\n",
    "A dictionary is a collection of key value pairs.\n",
    "Dictionaries can contain multiple data types as well as lists."
   ]
  },
  {
   "cell_type": "code",
   "execution_count": 47,
   "id": "06eeb004-bcf8-4df5-a0c2-7c0f142a9859",
   "metadata": {},
   "outputs": [
    {
     "name": "stdout",
     "output_type": "stream",
     "text": [
      "Trea's cohort is 38\n",
      "Pave watches too much Love Island\n"
     ]
    }
   ],
   "source": [
    "trea = {\n",
    "  \"cohort\": 38,\n",
    "  \"specialist_subject\": \"Flight codes\",\n",
    "  \"starsign\": \"Leo\"\n",
    "}\n",
    "\n",
    "pave = {\n",
    "  \"cohort\": 43,\n",
    "  \"specialist_subject\": \"Love Island\",\n",
    "  \"starsign\": \"Capricorn\"\n",
    "}\n",
    "\n",
    "print(\"Trea's cohort is\", trea[\"cohort\"])\n",
    "\n",
    "print(\"Pave watches too much\", pave[\"specialist_subject\"])\n"
   ]
  },
  {
   "cell_type": "markdown",
   "id": "cabac320-280c-408d-ae00-245a8eac4482",
   "metadata": {},
   "source": [
    "* 'trea' and 'pave' are the names we are assigning to the dictionaries\n",
    "* Each dictionary contains 3 key value pairs\n",
    "* The syntax used is what defines these as dictionaries"
   ]
  },
  {
   "cell_type": "markdown",
   "id": "13afb264-e3ea-40e8-9859-2799d34a6980",
   "metadata": {},
   "source": [
    "---\n",
    "## 3.  📚 Libraries \n",
    "#### Bringing in functions to do things for us\n",
    "We need to import a library/tool that will let us connect to the internet. \n",
    "<br>\n",
    "It's called the requests library - and is one of the most useful libraries out there. \n",
    "<br>\n",
    "Basically in short - it will let us talk to the TFL api on the internet.\n"
   ]
  },
  {
   "cell_type": "code",
   "execution_count": 49,
   "id": "894867cb-f808-420a-9377-0b58410d3961",
   "metadata": {},
   "outputs": [],
   "source": [
    "# Import the requests library using import + the name of the library ↓\n",
    "import requests"
   ]
  },
  {
   "cell_type": "markdown",
   "id": "60373341-df6c-49b2-a24d-bf14fa33a241",
   "metadata": {},
   "source": [
    "---\n",
    "## 4. 📞 Calling the API \n",
    "We need to give the requests library a URL to request from, we can do this by setting a variable like we learned earlier. \n",
    "We can grab the TFL URL from their API documentation site - https://api.tfl.gov.uk/\n",
    "</br>\n",
    "Then we need to set up the rest of our code: \n",
    "- requests.get(url) sends the request\n",
    "- response holds the reply from TfL"
   ]
  },
  {
   "cell_type": "code",
   "execution_count": 51,
   "id": "a15409d0-d7df-456a-bd05-e5b0d13c9c3b",
   "metadata": {},
   "outputs": [
    {
     "name": "stdout",
     "output_type": "stream",
     "text": [
      "<Response [200]>\n"
     ]
    }
   ],
   "source": [
    "## Importing the library \n",
    "import requests \n",
    "\n",
    "## Setting the url variable - here is a lovely one I prepared earlier \n",
    "url = \"https://api.tfl.gov.uk/StopPoint/Search/Mansion%20House\"\n",
    "\n",
    "## Defining a new variable called response that uses the requests library to \"get\" from the TFL API url ↓\n",
    "response = requests.get(url)\n",
    "\n",
    "## Printing the response from the URL and seeing what it looks like ↓\n",
    "print(response)"
   ]
  },
  {
   "cell_type": "markdown",
   "id": "c2935c3c-b96f-41a6-95ee-d1aec6fa7b95",
   "metadata": {},
   "source": [
    "## 5. ℹ️ Pulling Through Data From the API \n",
    "APIs respond with JSON, which is like a big text based dictionary - so we're going to have to pull through this JSON and figure out how to read it/what to do with it. \n",
    "</br> \n",
    "We can use one of the IDs pulled through earlier.\n",
    "</br> \n",
    "\"940GZZLUMSH\"  - Mansion House Station ID 🏠"
   ]
  },
  {
   "cell_type": "code",
   "execution_count": 52,
   "id": "b83b2444-d899-4174-a756-ef295da9e73d",
   "metadata": {},
   "outputs": [
    {
     "name": "stdout",
     "output_type": "stream",
     "text": [
      "[{'$type': 'Tfl.Api.Presentation.Entities.Prediction, Tfl.Api.Presentation.Entities', 'id': '406319045', 'operationType': 1, 'vehicleId': '201', 'naptanId': '940GZZLUMSH', 'stationName': 'Mansion House Underground Station', 'lineId': 'circle', 'lineName': 'Circle', 'platformName': 'Eastbound - Platform 3', 'direction': 'inbound', 'bearing': '', 'destinationNaptanId': '940GZZLUHSC', 'destinationName': 'Hammersmith (H&C Line) Underground Station', 'timestamp': '2025-06-26T10:23:15.0958606Z', 'timeToStation': 48, 'currentLocation': 'Between Blackfriars and Mansion House', 'towards': 'Hammersmith', 'expectedArrival': '2025-06-26T10:24:03Z', 'timeToLive': '2025-06-26T10:24:03Z', 'modeName': 'tube', 'timing': {'$type': 'Tfl.Api.Presentation.Entities.PredictionTiming, Tfl.Api.Presentation.Entities', 'countdownServerAdjustment': '00:00:00', 'source': '0001-01-01T00:00:00', 'insert': '0001-01-01T00:00:00', 'read': '2025-06-26T10:23:06.431Z', 'sent': '2025-06-26T10:23:15Z', 'received': '0001-01-01T00:00:00'}}, {'$type': 'Tfl.Api.Presentation.Entities.Prediction, Tfl.Api.Presentation.Entities', 'id': '-1118870440', 'operationType': 1, 'vehicleId': '202', 'naptanId': '940GZZLUMSH', 'stationName': 'Mansion House Underground Station', 'lineId': 'circle', 'lineName': 'Circle', 'platformName': 'Eastbound - Platform 3', 'direction': 'inbound', 'bearing': '', 'destinationNaptanId': '940GZZLUHSC', 'destinationName': 'Hammersmith (H&C Line) Underground Station', 'timestamp': '2025-06-26T10:23:15.0958606Z', 'timeToStation': 468, 'currentLocation': \"At St James's Park Platform 2\", 'towards': 'Hammersmith', 'expectedArrival': '2025-06-26T10:31:03Z', 'timeToLive': '2025-06-26T10:31:03Z', 'modeName': 'tube', 'timing': {'$type': 'Tfl.Api.Presentation.Entities.PredictionTiming, Tfl.Api.Presentation.Entities', 'countdownServerAdjustment': '00:00:00', 'source': '0001-01-01T00:00:00', 'insert': '0001-01-01T00:00:00', 'read': '2025-06-26T10:23:06.431Z', 'sent': '2025-06-26T10:23:15Z', 'received': '0001-01-01T00:00:00'}}, {'$type': 'Tfl.Api.Presentation.Entities.Prediction, Tfl.Api.Presentation.Entities', 'id': '-555446017', 'operationType': 1, 'vehicleId': '203', 'naptanId': '940GZZLUMSH', 'stationName': 'Mansion House Underground Station', 'lineId': 'circle', 'lineName': 'Circle', 'platformName': 'Eastbound - Platform 3', 'direction': 'inbound', 'bearing': '', 'destinationNaptanId': '940GZZLUHSC', 'destinationName': 'Hammersmith (H&C Line) Underground Station', 'timestamp': '2025-06-26T10:23:15.0958606Z', 'timeToStation': 1068, 'currentLocation': 'Between Notting Hill Gate and High Street Kensingt', 'towards': 'Hammersmith', 'expectedArrival': '2025-06-26T10:41:03Z', 'timeToLive': '2025-06-26T10:41:03Z', 'modeName': 'tube', 'timing': {'$type': 'Tfl.Api.Presentation.Entities.PredictionTiming, Tfl.Api.Presentation.Entities', 'countdownServerAdjustment': '00:00:00', 'source': '0001-01-01T00:00:00', 'insert': '0001-01-01T00:00:00', 'read': '2025-06-26T10:23:06.431Z', 'sent': '2025-06-26T10:23:15Z', 'received': '0001-01-01T00:00:00'}}, {'$type': 'Tfl.Api.Presentation.Entities.Prediction, Tfl.Api.Presentation.Entities', 'id': '-157322450', 'operationType': 1, 'vehicleId': '210', 'naptanId': '940GZZLUMSH', 'stationName': 'Mansion House Underground Station', 'lineId': 'circle', 'lineName': 'Circle', 'platformName': 'Westbound - Platform 1', 'direction': 'outbound', 'bearing': '', 'destinationNaptanId': '940GZZLUERC', 'destinationName': 'Edgware Road (Circle Line) Underground Station', 'timestamp': '2025-06-26T10:23:15.0958606Z', 'timeToStation': 228, 'currentLocation': 'At Tower Hill Platform 1', 'towards': 'Edgware Road (Circle)', 'expectedArrival': '2025-06-26T10:27:03Z', 'timeToLive': '2025-06-26T10:27:03Z', 'modeName': 'tube', 'timing': {'$type': 'Tfl.Api.Presentation.Entities.PredictionTiming, Tfl.Api.Presentation.Entities', 'countdownServerAdjustment': '00:00:00', 'source': '0001-01-01T00:00:00', 'insert': '0001-01-01T00:00:00', 'read': '2025-06-26T10:23:06.431Z', 'sent': '2025-06-26T10:23:15Z', 'received': '0001-01-01T00:00:00'}}, {'$type': 'Tfl.Api.Presentation.Entities.Prediction, Tfl.Api.Presentation.Entities', 'id': '406122437', 'operationType': 1, 'vehicleId': '211', 'naptanId': '940GZZLUMSH', 'stationName': 'Mansion House Underground Station', 'lineId': 'circle', 'lineName': 'Circle', 'platformName': 'Westbound - Platform 1', 'direction': 'outbound', 'bearing': '', 'destinationNaptanId': '940GZZLUERC', 'destinationName': 'Edgware Road (Circle Line) Underground Station', 'timestamp': '2025-06-26T10:23:15.0958606Z', 'timeToStation': 828, 'currentLocation': 'At Farringdon Platform 1', 'towards': 'Edgware Road (Circle)', 'expectedArrival': '2025-06-26T10:37:03Z', 'timeToLive': '2025-06-26T10:37:03Z', 'modeName': 'tube', 'timing': {'$type': 'Tfl.Api.Presentation.Entities.PredictionTiming, Tfl.Api.Presentation.Entities', 'countdownServerAdjustment': '00:00:00', 'source': '0001-01-01T00:00:00', 'insert': '0001-01-01T00:00:00', 'read': '2025-06-26T10:23:06.431Z', 'sent': '2025-06-26T10:23:15Z', 'received': '0001-01-01T00:00:00'}}, {'$type': 'Tfl.Api.Presentation.Entities.Prediction, Tfl.Api.Presentation.Entities', 'id': '-1119067048', 'operationType': 1, 'vehicleId': '212', 'naptanId': '940GZZLUMSH', 'stationName': 'Mansion House Underground Station', 'lineId': 'circle', 'lineName': 'Circle', 'platformName': 'Westbound - Platform 1', 'direction': 'outbound', 'bearing': '', 'destinationNaptanId': '940GZZLUERC', 'destinationName': 'Edgware Road (Circle Line) Underground Station', 'timestamp': '2025-06-26T10:23:15.0958606Z', 'timeToStation': 1368, 'currentLocation': 'At Baker Street Platform 5', 'towards': 'Edgware Road (Circle)', 'expectedArrival': '2025-06-26T10:46:03Z', 'timeToLive': '2025-06-26T10:46:03Z', 'modeName': 'tube', 'timing': {'$type': 'Tfl.Api.Presentation.Entities.PredictionTiming, Tfl.Api.Presentation.Entities', 'countdownServerAdjustment': '00:00:00', 'source': '0001-01-01T00:00:00', 'insert': '0001-01-01T00:00:00', 'read': '2025-06-26T10:23:06.431Z', 'sent': '2025-06-26T10:23:15Z', 'received': '0001-01-01T00:00:00'}}, {'$type': 'Tfl.Api.Presentation.Entities.Prediction, Tfl.Api.Presentation.Entities', 'id': '2020427681', 'operationType': 1, 'vehicleId': '002', 'naptanId': '940GZZLUMSH', 'stationName': 'Mansion House Underground Station', 'lineId': 'district', 'lineName': 'District', 'platformName': 'Eastbound - Platform 3', 'direction': 'outbound', 'bearing': '', 'destinationNaptanId': '940GZZLUBKG', 'destinationName': 'Barking Underground Station', 'timestamp': '2025-06-26T10:23:15.0958606Z', 'timeToStation': 587, 'currentLocation': 'At Sloane Square Platform 2', 'towards': 'Barking', 'expectedArrival': '2025-06-26T10:33:02Z', 'timeToLive': '2025-06-26T10:33:02Z', 'modeName': 'tube', 'timing': {'$type': 'Tfl.Api.Presentation.Entities.PredictionTiming, Tfl.Api.Presentation.Entities', 'countdownServerAdjustment': '00:00:00', 'source': '0001-01-01T00:00:00', 'insert': '0001-01-01T00:00:00', 'read': '2025-06-26T10:23:05.647Z', 'sent': '2025-06-26T10:23:15Z', 'received': '0001-01-01T00:00:00'}}, {'$type': 'Tfl.Api.Presentation.Entities.Prediction, Tfl.Api.Presentation.Entities', 'id': '868045035', 'operationType': 1, 'vehicleId': '010', 'naptanId': '940GZZLUMSH', 'stationName': 'Mansion House Underground Station', 'lineId': 'district', 'lineName': 'District', 'platformName': 'Westbound - Platform 1', 'direction': 'inbound', 'bearing': '', 'destinationNaptanId': '940GZZLURMD', 'destinationName': 'Richmond Underground Station', 'timestamp': '2025-06-26T10:23:15.0958606Z', 'timeToStation': 168, 'currentLocation': 'Approaching Monument Platform 1', 'towards': 'Richmond', 'expectedArrival': '2025-06-26T10:26:03Z', 'timeToLive': '2025-06-26T10:26:03Z', 'modeName': 'tube', 'timing': {'$type': 'Tfl.Api.Presentation.Entities.PredictionTiming, Tfl.Api.Presentation.Entities', 'countdownServerAdjustment': '00:00:00', 'source': '0001-01-01T00:00:00', 'insert': '0001-01-01T00:00:00', 'read': '2025-06-26T10:23:05.647Z', 'sent': '2025-06-26T10:23:15Z', 'received': '0001-01-01T00:00:00'}}, {'$type': 'Tfl.Api.Presentation.Entities.Prediction, Tfl.Api.Presentation.Entities', 'id': '-585708540', 'operationType': 1, 'vehicleId': '011', 'naptanId': '940GZZLUMSH', 'stationName': 'Mansion House Underground Station', 'lineId': 'district', 'lineName': 'District', 'platformName': 'Westbound - Platform 1', 'direction': 'inbound', 'bearing': '', 'destinationNaptanId': '940GZZLURMD', 'destinationName': 'Richmond Underground Station', 'timestamp': '2025-06-26T10:23:15.0958606Z', 'timeToStation': 648, 'currentLocation': 'At Stepney Green Platform 1', 'towards': 'Richmond', 'expectedArrival': '2025-06-26T10:34:03Z', 'timeToLive': '2025-06-26T10:34:03Z', 'modeName': 'tube', 'timing': {'$type': 'Tfl.Api.Presentation.Entities.PredictionTiming, Tfl.Api.Presentation.Entities', 'countdownServerAdjustment': '00:00:00', 'source': '0001-01-01T00:00:00', 'insert': '0001-01-01T00:00:00', 'read': '2025-06-26T10:23:05.647Z', 'sent': '2025-06-26T10:23:15Z', 'received': '0001-01-01T00:00:00'}}, {'$type': 'Tfl.Api.Presentation.Entities.Prediction, Tfl.Api.Presentation.Entities', 'id': '2020493217', 'operationType': 1, 'vehicleId': '012', 'naptanId': '940GZZLUMSH', 'stationName': 'Mansion House Underground Station', 'lineId': 'district', 'lineName': 'District', 'platformName': 'Westbound - Platform 1', 'direction': 'inbound', 'bearing': '', 'destinationNaptanId': '940GZZLURMD', 'destinationName': 'Richmond Underground Station', 'timestamp': '2025-06-26T10:23:15.0958606Z', 'timeToStation': 1248, 'currentLocation': 'Between Upton Park and Plaistow', 'towards': 'Richmond', 'expectedArrival': '2025-06-26T10:44:03Z', 'timeToLive': '2025-06-26T10:44:03Z', 'modeName': 'tube', 'timing': {'$type': 'Tfl.Api.Presentation.Entities.PredictionTiming, Tfl.Api.Presentation.Entities', 'countdownServerAdjustment': '00:00:00', 'source': '0001-01-01T00:00:00', 'insert': '0001-01-01T00:00:00', 'read': '2025-06-26T10:23:05.647Z', 'sent': '2025-06-26T10:23:15Z', 'received': '0001-01-01T00:00:00'}}, {'$type': 'Tfl.Api.Presentation.Entities.Prediction, Tfl.Api.Presentation.Entities', 'id': '2020558753', 'operationType': 1, 'vehicleId': '022', 'naptanId': '940GZZLUMSH', 'stationName': 'Mansion House Underground Station', 'lineId': 'district', 'lineName': 'District', 'platformName': 'Eastbound - Platform 3', 'direction': 'outbound', 'bearing': '', 'destinationNaptanId': '940GZZLUUPM', 'destinationName': 'Upminster Underground Station', 'timestamp': '2025-06-26T10:23:15.0958606Z', 'timeToStation': 137, 'currentLocation': 'At Temple Platform 2', 'towards': 'Upminster', 'expectedArrival': '2025-06-26T10:25:32Z', 'timeToLive': '2025-06-26T10:25:32Z', 'modeName': 'tube', 'timing': {'$type': 'Tfl.Api.Presentation.Entities.PredictionTiming, Tfl.Api.Presentation.Entities', 'countdownServerAdjustment': '00:00:00', 'source': '0001-01-01T00:00:00', 'insert': '0001-01-01T00:00:00', 'read': '2025-06-26T10:23:05.647Z', 'sent': '2025-06-26T10:23:15Z', 'received': '0001-01-01T00:00:00'}}, {'$type': 'Tfl.Api.Presentation.Entities.Prediction, Tfl.Api.Presentation.Entities', 'id': '466137914', 'operationType': 1, 'vehicleId': '023', 'naptanId': '940GZZLUMSH', 'stationName': 'Mansion House Underground Station', 'lineId': 'district', 'lineName': 'District', 'platformName': 'Eastbound - Platform 3', 'direction': 'outbound', 'bearing': '', 'destinationNaptanId': '940GZZLUUPM', 'destinationName': 'Upminster Underground Station', 'timestamp': '2025-06-26T10:23:15.0958606Z', 'timeToStation': 707, 'currentLocation': 'Left South Kensington', 'towards': 'Upminster', 'expectedArrival': '2025-06-26T10:35:02Z', 'timeToLive': '2025-06-26T10:35:02Z', 'modeName': 'tube', 'timing': {'$type': 'Tfl.Api.Presentation.Entities.PredictionTiming, Tfl.Api.Presentation.Entities', 'countdownServerAdjustment': '00:00:00', 'source': '0001-01-01T00:00:00', 'insert': '0001-01-01T00:00:00', 'read': '2025-06-26T10:23:05.647Z', 'sent': '2025-06-26T10:23:15Z', 'received': '0001-01-01T00:00:00'}}, {'$type': 'Tfl.Api.Presentation.Entities.Prediction, Tfl.Api.Presentation.Entities', 'id': '1618647536', 'operationType': 1, 'vehicleId': '035', 'naptanId': '940GZZLUMSH', 'stationName': 'Mansion House Underground Station', 'lineId': 'district', 'lineName': 'District', 'platformName': 'Westbound - Platform 1', 'direction': 'inbound', 'bearing': '', 'destinationNaptanId': '940GZZLUEBY', 'destinationName': 'Ealing Broadway Underground Station', 'timestamp': '2025-06-26T10:23:15.0958606Z', 'timeToStation': 348, 'currentLocation': 'At Aldgate East Platform 1', 'towards': 'Ealing Broadway', 'expectedArrival': '2025-06-26T10:29:03Z', 'timeToLive': '2025-06-26T10:29:03Z', 'modeName': 'tube', 'timing': {'$type': 'Tfl.Api.Presentation.Entities.PredictionTiming, Tfl.Api.Presentation.Entities', 'countdownServerAdjustment': '00:00:00', 'source': '0001-01-01T00:00:00', 'insert': '0001-01-01T00:00:00', 'read': '2025-06-26T10:23:05.647Z', 'sent': '2025-06-26T10:23:15Z', 'received': '0001-01-01T00:00:00'}}, {'$type': 'Tfl.Api.Presentation.Entities.Prediction, Tfl.Api.Presentation.Entities', 'id': '64099597', 'operationType': 1, 'vehicleId': '036', 'naptanId': '940GZZLUMSH', 'stationName': 'Mansion House Underground Station', 'lineId': 'district', 'lineName': 'District', 'platformName': 'Westbound - Platform 1', 'direction': 'inbound', 'bearing': '', 'destinationNaptanId': '940GZZLUEBY', 'destinationName': 'Ealing Broadway Underground Station', 'timestamp': '2025-06-26T10:23:15.0958606Z', 'timeToStation': 948, 'currentLocation': 'At Bromley-by-Bow Platform 1', 'towards': 'Ealing Broadway', 'expectedArrival': '2025-06-26T10:39:03Z', 'timeToLive': '2025-06-26T10:39:03Z', 'modeName': 'tube', 'timing': {'$type': 'Tfl.Api.Presentation.Entities.PredictionTiming, Tfl.Api.Presentation.Entities', 'countdownServerAdjustment': '00:00:00', 'source': '0001-01-01T00:00:00', 'insert': '0001-01-01T00:00:00', 'read': '2025-06-26T10:23:05.647Z', 'sent': '2025-06-26T10:23:15Z', 'received': '0001-01-01T00:00:00'}}, {'$type': 'Tfl.Api.Presentation.Entities.Prediction, Tfl.Api.Presentation.Entities', 'id': '-585446396', 'operationType': 1, 'vehicleId': '051', 'naptanId': '940GZZLUMSH', 'stationName': 'Mansion House Underground Station', 'lineId': 'district', 'lineName': 'District', 'platformName': 'Eastbound - Platform 3', 'direction': 'outbound', 'bearing': '', 'destinationNaptanId': '940GZZLUTWH', 'destinationName': 'Tower Hill Underground Station', 'timestamp': '2025-06-26T10:23:15.0958606Z', 'timeToStation': 767, 'currentLocation': 'Between Gloucester Road and South Kensington', 'towards': 'Tower Hill', 'expectedArrival': '2025-06-26T10:36:02Z', 'timeToLive': '2025-06-26T10:36:02Z', 'modeName': 'tube', 'timing': {'$type': 'Tfl.Api.Presentation.Entities.PredictionTiming, Tfl.Api.Presentation.Entities', 'countdownServerAdjustment': '00:00:00', 'source': '0001-01-01T00:00:00', 'insert': '0001-01-01T00:00:00', 'read': '2025-06-26T10:23:05.647Z', 'sent': '2025-06-26T10:23:15Z', 'received': '0001-01-01T00:00:00'}}, {'$type': 'Tfl.Api.Presentation.Entities.Prediction, Tfl.Api.Presentation.Entities', 'id': '1618778608', 'operationType': 1, 'vehicleId': '055', 'naptanId': '940GZZLUMSH', 'stationName': 'Mansion House Underground Station', 'lineId': 'district', 'lineName': 'District', 'platformName': 'Westbound - Platform 1', 'direction': 'inbound', 'bearing': '', 'destinationNaptanId': '940GZZLUWIM', 'destinationName': 'Wimbledon Underground Station', 'timestamp': '2025-06-26T10:23:15.0958606Z', 'timeToStation': 528, 'currentLocation': 'At Whitechapel Platform 2', 'towards': 'Wimbledon', 'expectedArrival': '2025-06-26T10:32:03Z', 'timeToLive': '2025-06-26T10:32:03Z', 'modeName': 'tube', 'timing': {'$type': 'Tfl.Api.Presentation.Entities.PredictionTiming, Tfl.Api.Presentation.Entities', 'countdownServerAdjustment': '00:00:00', 'source': '0001-01-01T00:00:00', 'insert': '0001-01-01T00:00:00', 'read': '2025-06-26T10:23:05.647Z', 'sent': '2025-06-26T10:23:15Z', 'received': '0001-01-01T00:00:00'}}, {'$type': 'Tfl.Api.Presentation.Entities.Prediction, Tfl.Api.Presentation.Entities', 'id': '868372715', 'operationType': 1, 'vehicleId': '060', 'naptanId': '940GZZLUMSH', 'stationName': 'Mansion House Underground Station', 'lineId': 'district', 'lineName': 'District', 'platformName': 'Eastbound - Platform 3', 'direction': 'outbound', 'bearing': '', 'destinationNaptanId': '940GZZLUBKG', 'destinationName': 'Barking Underground Station', 'timestamp': '2025-06-26T10:23:15.0958606Z', 'timeToStation': 227, 'currentLocation': 'Left Embankment', 'towards': 'Barking', 'expectedArrival': '2025-06-26T10:27:02Z', 'timeToLive': '2025-06-26T10:27:02Z', 'modeName': 'tube', 'timing': {'$type': 'Tfl.Api.Presentation.Entities.PredictionTiming, Tfl.Api.Presentation.Entities', 'countdownServerAdjustment': '00:00:00', 'source': '0001-01-01T00:00:00', 'insert': '0001-01-01T00:00:00', 'read': '2025-06-26T10:23:05.647Z', 'sent': '2025-06-26T10:23:15Z', 'received': '0001-01-01T00:00:00'}}, {'$type': 'Tfl.Api.Presentation.Entities.Prediction, Tfl.Api.Presentation.Entities', 'id': '1618844144', 'operationType': 1, 'vehicleId': '065', 'naptanId': '940GZZLUMSH', 'stationName': 'Mansion House Underground Station', 'lineId': 'district', 'lineName': 'District', 'platformName': 'Westbound - Platform 1', 'bearing': '', 'timestamp': '2025-06-26T10:23:15.0958606Z', 'timeToStation': 1128, 'currentLocation': 'At Cannon Street Platform 2', 'towards': 'Check Front of Train', 'expectedArrival': '2025-06-26T10:42:03Z', 'timeToLive': '2025-06-26T10:42:03Z', 'modeName': 'tube', 'timing': {'$type': 'Tfl.Api.Presentation.Entities.PredictionTiming, Tfl.Api.Presentation.Entities', 'countdownServerAdjustment': '00:00:00', 'source': '0001-01-01T00:00:00', 'insert': '0001-01-01T00:00:00', 'read': '2025-06-26T10:23:05.647Z', 'sent': '2025-06-26T10:23:15Z', 'received': '0001-01-01T00:00:00'}}, {'$type': 'Tfl.Api.Presentation.Entities.Prediction, Tfl.Api.Presentation.Entities', 'id': '-1340620263', 'operationType': 1, 'vehicleId': '065', 'naptanId': '940GZZLUMSH', 'stationName': 'Mansion House Underground Station', 'lineId': 'hammersmith-city', 'lineName': 'Hammersmith & City', 'platformName': 'Westbound - Platform 1', 'bearing': '', 'timestamp': '2025-06-26T10:23:15.0958606Z', 'timeToStation': 1128, 'currentLocation': 'At Cannon Street Platform 2', 'towards': 'Check Front of Train', 'expectedArrival': '2025-06-26T10:42:03Z', 'timeToLive': '2025-06-26T10:42:03Z', 'modeName': 'tube', 'timing': {'$type': 'Tfl.Api.Presentation.Entities.PredictionTiming, Tfl.Api.Presentation.Entities', 'countdownServerAdjustment': '00:00:00', 'source': '0001-01-01T00:00:00', 'insert': '0001-01-01T00:00:00', 'read': '2025-06-26T10:23:06.431Z', 'sent': '2025-06-26T10:23:15Z', 'received': '0001-01-01T00:00:00'}}]\n"
     ]
    }
   ],
   "source": [
    "## Import requests like earlier  ↓\n",
    "\n",
    "\n",
    "## Set Manstion House as the stop ID variable  ↓\n",
    "stop_id = \"940GZZLUMSH\" \n",
    "url = f\"https://api.tfl.gov.uk/StopPoint/{stop_id}/Arrivals\"\n",
    "\n",
    "## Set our response  ↓\n",
    "response = requests.get(url)\n",
    "\n",
    "## Set our data  ↓\n",
    "data = response.json()\n",
    "\n",
    "print(data)"
   ]
  },
  {
   "cell_type": "markdown",
   "id": "c4fbcdd3-4fb6-4cfe-8fef-1e652258cea0",
   "metadata": {},
   "source": [
    "---\n",
    "## 5. 🚆 Looping Through the Arrivals \n",
    "We are going to be using something called a for loop!\n",
    "</br>\n",
    "A for loop lets us repeat a block of code for every item in a list - just like looping through rows in a dataset - almost like an iterative macro!\n",
    "In this example - our data is a list of dictionaries - like a table where each row has columns like lineName, destinationName etc. \n",
    "</br>\n",
    "Each item represents one arriving train - and I'm going to call each item a train\n",
    "</br>\n",
    "</br>\n",
    "for train in arrivals_data: says - Loop through every row in the list \n",
    "</br>\n",
    "And then inside the loop it: \n",
    "* Extract rows from the current \"row\"\n",
    "* Print() formats our data and shows the train arrival info in human friendly form\n",
    "\n",
    "\n"
   ]
  },
  {
   "cell_type": "code",
   "execution_count": 55,
   "id": "4cb5cd30-d9c8-4ef5-bcb2-0be5f5d75698",
   "metadata": {},
   "outputs": [
    {
     "name": "stdout",
     "output_type": "stream",
     "text": [
      "Circle line train to Hammersmith (H&C Line) Underground Station arriving in 1 minutes.\n",
      "Circle line train to Hammersmith (H&C Line) Underground Station arriving in 8 minutes.\n",
      "Circle line train to Hammersmith (H&C Line) Underground Station arriving in 18 minutes.\n",
      "Circle line train to Edgware Road (Circle Line) Underground Station arriving in 4 minutes.\n",
      "Circle line train to Edgware Road (Circle Line) Underground Station arriving in 14 minutes.\n",
      "Circle line train to Edgware Road (Circle Line) Underground Station arriving in 23 minutes.\n",
      "District line train to Barking Underground Station arriving in 10 minutes.\n",
      "District line train to Richmond Underground Station arriving in 3 minutes.\n",
      "District line train to Richmond Underground Station arriving in 11 minutes.\n",
      "District line train to Richmond Underground Station arriving in 21 minutes.\n",
      "District line train to Upminster Underground Station arriving in 2 minutes.\n",
      "District line train to Upminster Underground Station arriving in 12 minutes.\n",
      "District line train to Ealing Broadway Underground Station arriving in 6 minutes.\n",
      "District line train to Ealing Broadway Underground Station arriving in 16 minutes.\n",
      "District line train to Tower Hill Underground Station arriving in 13 minutes.\n",
      "District line train to Wimbledon Underground Station arriving in 9 minutes.\n",
      "District line train to Barking Underground Station arriving in 4 minutes.\n"
     ]
    },
    {
     "ename": "KeyError",
     "evalue": "'destinationName'",
     "output_type": "error",
     "traceback": [
      "\u001b[0;31m---------------------------------------------------------------------------\u001b[0m",
      "\u001b[0;31mKeyError\u001b[0m                                  Traceback (most recent call last)",
      "Cell \u001b[0;32mIn[55], line 4\u001b[0m\n\u001b[1;32m      2\u001b[0m \u001b[38;5;28;01mfor\u001b[39;00m train \u001b[38;5;129;01min\u001b[39;00m data:\n\u001b[1;32m      3\u001b[0m     line \u001b[38;5;241m=\u001b[39m train[\u001b[38;5;124m\"\u001b[39m\u001b[38;5;124mlineName\u001b[39m\u001b[38;5;124m\"\u001b[39m]\n\u001b[0;32m----> 4\u001b[0m     destination \u001b[38;5;241m=\u001b[39m \u001b[43mtrain\u001b[49m\u001b[43m[\u001b[49m\u001b[38;5;124;43m\"\u001b[39;49m\u001b[38;5;124;43mdestinationName\u001b[39;49m\u001b[38;5;124;43m\"\u001b[39;49m\u001b[43m]\u001b[49m\n\u001b[1;32m      5\u001b[0m     time \u001b[38;5;241m=\u001b[39m \u001b[38;5;28mround\u001b[39m(train[\u001b[38;5;124m\"\u001b[39m\u001b[38;5;124mtimeToStation\u001b[39m\u001b[38;5;124m\"\u001b[39m]\u001b[38;5;241m/\u001b[39m\u001b[38;5;241m60\u001b[39m)\n\u001b[1;32m      7\u001b[0m     \u001b[38;5;28mprint\u001b[39m(\u001b[38;5;124mf\u001b[39m\u001b[38;5;124m\"\u001b[39m\u001b[38;5;132;01m{\u001b[39;00mline\u001b[38;5;132;01m}\u001b[39;00m\u001b[38;5;124m line train to \u001b[39m\u001b[38;5;132;01m{\u001b[39;00mdestination\u001b[38;5;132;01m}\u001b[39;00m\u001b[38;5;124m arriving in \u001b[39m\u001b[38;5;132;01m{\u001b[39;00mtime\u001b[38;5;132;01m}\u001b[39;00m\u001b[38;5;124m minutes.\u001b[39m\u001b[38;5;124m\"\u001b[39m)\n",
      "\u001b[0;31mKeyError\u001b[0m: 'destinationName'"
     ]
    }
   ],
   "source": [
    "## Here is one I prepared earlier \n",
    "for train in data:\n",
    "    line = train[\"lineName\"]\n",
    "    destination = train[\"destinationName\"]\n",
    "    time = round(train[\"timeToStation\"]/60)\n",
    "\n",
    "    print(f\"{line} line train to {destination} arriving in {time} minutes.\")"
   ]
  },
  {
   "cell_type": "markdown",
   "id": "37d10c3b-0315-469d-b505-d0ac7d2472a1",
   "metadata": {},
   "source": [
    "---\n",
    "## ⭐ Extra Bit!! - 6. Getting Preppy With It!\n",
    "Now we are going to attempt to get our data into something that resembles the datasets we are used to working with - with nice columns and rows!!\n",
    "</br>\n",
    "</br>\n",
    "To do that - we need the help of another library called pandas - which lets us put things into dataframes - which is a table like structure. "
   ]
  },
  {
   "cell_type": "code",
   "execution_count": 57,
   "id": "5da84bc6-be38-4ef9-8a67-ce71fa1014da",
   "metadata": {},
   "outputs": [
    {
     "name": "stdout",
     "output_type": "stream",
     "text": [
      "Defaulting to user installation because normal site-packages is not writeable\n",
      "Requirement already satisfied: pandas in ./.local/lib/python3.10/site-packages (2.3.0)\n",
      "Requirement already satisfied: numpy>=1.22.4 in ./.local/lib/python3.10/site-packages (from pandas) (2.2.6)\n",
      "Requirement already satisfied: python-dateutil>=2.8.2 in /opt/tljh/user/lib/python3.10/site-packages (from pandas) (2.8.2)\n",
      "Requirement already satisfied: pytz>=2020.1 in ./.local/lib/python3.10/site-packages (from pandas) (2025.2)\n",
      "Requirement already satisfied: tzdata>=2022.7 in ./.local/lib/python3.10/site-packages (from pandas) (2025.2)\n",
      "Requirement already satisfied: six>=1.5 in /opt/tljh/user/lib/python3.10/site-packages (from python-dateutil>=2.8.2->pandas) (1.16.0)\n",
      "\n",
      "\u001b[1m[\u001b[0m\u001b[34;49mnotice\u001b[0m\u001b[1;39;49m]\u001b[0m\u001b[39;49m A new release of pip is available: \u001b[0m\u001b[31;49m23.3.1\u001b[0m\u001b[39;49m -> \u001b[0m\u001b[32;49m25.1.1\u001b[0m\n",
      "\u001b[1m[\u001b[0m\u001b[34;49mnotice\u001b[0m\u001b[1;39;49m]\u001b[0m\u001b[39;49m To update, run: \u001b[0m\u001b[32;49mpip install --upgrade pip\u001b[0m\n"
     ]
    }
   ],
   "source": [
    "!pip install pandas \n",
    "import pandas as pd"
   ]
  },
  {
   "cell_type": "code",
   "execution_count": 58,
   "id": "e9cf7aa1-4dd3-4d6e-9c29-572fde14accc",
   "metadata": {},
   "outputs": [
    {
     "name": "stdout",
     "output_type": "stream",
     "text": [
      "                                               $type           id  \\\n",
      "0  Tfl.Api.Presentation.Entities.Prediction, Tfl....    406319045   \n",
      "1  Tfl.Api.Presentation.Entities.Prediction, Tfl....  -1118870440   \n",
      "2  Tfl.Api.Presentation.Entities.Prediction, Tfl....   -555446017   \n",
      "3  Tfl.Api.Presentation.Entities.Prediction, Tfl....   -157322450   \n",
      "4  Tfl.Api.Presentation.Entities.Prediction, Tfl....    406122437   \n",
      "\n",
      "   operationType vehicleId     naptanId                        stationName  \\\n",
      "0              1       201  940GZZLUMSH  Mansion House Underground Station   \n",
      "1              1       202  940GZZLUMSH  Mansion House Underground Station   \n",
      "2              1       203  940GZZLUMSH  Mansion House Underground Station   \n",
      "3              1       210  940GZZLUMSH  Mansion House Underground Station   \n",
      "4              1       211  940GZZLUMSH  Mansion House Underground Station   \n",
      "\n",
      "   lineId lineName            platformName direction  ... destinationNaptanId  \\\n",
      "0  circle   Circle  Eastbound - Platform 3   inbound  ...         940GZZLUHSC   \n",
      "1  circle   Circle  Eastbound - Platform 3   inbound  ...         940GZZLUHSC   \n",
      "2  circle   Circle  Eastbound - Platform 3   inbound  ...         940GZZLUHSC   \n",
      "3  circle   Circle  Westbound - Platform 1  outbound  ...         940GZZLUERC   \n",
      "4  circle   Circle  Westbound - Platform 1  outbound  ...         940GZZLUERC   \n",
      "\n",
      "                                  destinationName  \\\n",
      "0      Hammersmith (H&C Line) Underground Station   \n",
      "1      Hammersmith (H&C Line) Underground Station   \n",
      "2      Hammersmith (H&C Line) Underground Station   \n",
      "3  Edgware Road (Circle Line) Underground Station   \n",
      "4  Edgware Road (Circle Line) Underground Station   \n",
      "\n",
      "                      timestamp timeToStation  \\\n",
      "0  2025-06-26T10:23:15.0958606Z            48   \n",
      "1  2025-06-26T10:23:15.0958606Z           468   \n",
      "2  2025-06-26T10:23:15.0958606Z          1068   \n",
      "3  2025-06-26T10:23:15.0958606Z           228   \n",
      "4  2025-06-26T10:23:15.0958606Z           828   \n",
      "\n",
      "                                     currentLocation                towards  \\\n",
      "0              Between Blackfriars and Mansion House            Hammersmith   \n",
      "1                      At St James's Park Platform 2            Hammersmith   \n",
      "2  Between Notting Hill Gate and High Street Kens...            Hammersmith   \n",
      "3                           At Tower Hill Platform 1  Edgware Road (Circle)   \n",
      "4                           At Farringdon Platform 1  Edgware Road (Circle)   \n",
      "\n",
      "        expectedArrival            timeToLive modeName  \\\n",
      "0  2025-06-26T10:24:03Z  2025-06-26T10:24:03Z     tube   \n",
      "1  2025-06-26T10:31:03Z  2025-06-26T10:31:03Z     tube   \n",
      "2  2025-06-26T10:41:03Z  2025-06-26T10:41:03Z     tube   \n",
      "3  2025-06-26T10:27:03Z  2025-06-26T10:27:03Z     tube   \n",
      "4  2025-06-26T10:37:03Z  2025-06-26T10:37:03Z     tube   \n",
      "\n",
      "                                              timing  \n",
      "0  {'$type': 'Tfl.Api.Presentation.Entities.Predi...  \n",
      "1  {'$type': 'Tfl.Api.Presentation.Entities.Predi...  \n",
      "2  {'$type': 'Tfl.Api.Presentation.Entities.Predi...  \n",
      "3  {'$type': 'Tfl.Api.Presentation.Entities.Predi...  \n",
      "4  {'$type': 'Tfl.Api.Presentation.Entities.Predi...  \n",
      "\n",
      "[5 rows x 21 columns]\n"
     ]
    }
   ],
   "source": [
    "df = pd.DataFrame(data)\n",
    "\n",
    "## .head() lets us peak at the first five rows so we dont have mad loads of data coming back \n",
    "print(df.head())\n"
   ]
  },
  {
   "cell_type": "markdown",
   "id": "ee02747b-4b3c-430f-a030-3ed35ce6af38",
   "metadata": {},
   "source": [
    "### a) Cleaning Our DataFrame\n",
    "* Now we're going to just take some key columns as we don't need everything\n"
   ]
  },
  {
   "cell_type": "code",
   "execution_count": 59,
   "id": "e29684d0-0269-4dea-b043-508610615589",
   "metadata": {},
   "outputs": [
    {
     "name": "stdout",
     "output_type": "stream",
     "text": [
      "              lineName                                 destinationName  \\\n",
      "0               Circle      Hammersmith (H&C Line) Underground Station   \n",
      "1               Circle      Hammersmith (H&C Line) Underground Station   \n",
      "2               Circle      Hammersmith (H&C Line) Underground Station   \n",
      "3               Circle  Edgware Road (Circle Line) Underground Station   \n",
      "4               Circle  Edgware Road (Circle Line) Underground Station   \n",
      "5               Circle  Edgware Road (Circle Line) Underground Station   \n",
      "6             District                     Barking Underground Station   \n",
      "7             District                    Richmond Underground Station   \n",
      "8             District                    Richmond Underground Station   \n",
      "9             District                    Richmond Underground Station   \n",
      "10            District                   Upminster Underground Station   \n",
      "11            District                   Upminster Underground Station   \n",
      "12            District             Ealing Broadway Underground Station   \n",
      "13            District             Ealing Broadway Underground Station   \n",
      "14            District                  Tower Hill Underground Station   \n",
      "15            District                   Wimbledon Underground Station   \n",
      "16            District                     Barking Underground Station   \n",
      "17            District                                             NaN   \n",
      "18  Hammersmith & City                                             NaN   \n",
      "\n",
      "              platformName  timeToStation  \n",
      "0   Eastbound - Platform 3             48  \n",
      "1   Eastbound - Platform 3            468  \n",
      "2   Eastbound - Platform 3           1068  \n",
      "3   Westbound - Platform 1            228  \n",
      "4   Westbound - Platform 1            828  \n",
      "5   Westbound - Platform 1           1368  \n",
      "6   Eastbound - Platform 3            587  \n",
      "7   Westbound - Platform 1            168  \n",
      "8   Westbound - Platform 1            648  \n",
      "9   Westbound - Platform 1           1248  \n",
      "10  Eastbound - Platform 3            137  \n",
      "11  Eastbound - Platform 3            707  \n",
      "12  Westbound - Platform 1            348  \n",
      "13  Westbound - Platform 1            948  \n",
      "14  Eastbound - Platform 3            767  \n",
      "15  Westbound - Platform 1            528  \n",
      "16  Eastbound - Platform 3            227  \n",
      "17  Westbound - Platform 1           1128  \n",
      "18  Westbound - Platform 1           1128  \n"
     ]
    }
   ],
   "source": [
    "\n",
    "df = df[[\"lineName\", \"destinationName\", \"platformName\", \"timeToStation\"]]\n",
    "## Now print df below \n",
    "print(df)"
   ]
  },
  {
   "cell_type": "markdown",
   "id": "07409989-fc3b-40dc-8e23-fea9aedb6952",
   "metadata": {},
   "source": [
    "* I also think we need to do something about our time column and create a minutes to arrival column"
   ]
  },
  {
   "cell_type": "code",
   "execution_count": 60,
   "id": "c2553393-8c4a-46fc-84b2-0dbc6e095747",
   "metadata": {},
   "outputs": [
    {
     "name": "stdout",
     "output_type": "stream",
     "text": [
      "              lineName                                 destinationName  \\\n",
      "0               Circle      Hammersmith (H&C Line) Underground Station   \n",
      "1               Circle      Hammersmith (H&C Line) Underground Station   \n",
      "2               Circle      Hammersmith (H&C Line) Underground Station   \n",
      "3               Circle  Edgware Road (Circle Line) Underground Station   \n",
      "4               Circle  Edgware Road (Circle Line) Underground Station   \n",
      "5               Circle  Edgware Road (Circle Line) Underground Station   \n",
      "6             District                     Barking Underground Station   \n",
      "7             District                    Richmond Underground Station   \n",
      "8             District                    Richmond Underground Station   \n",
      "9             District                    Richmond Underground Station   \n",
      "10            District                   Upminster Underground Station   \n",
      "11            District                   Upminster Underground Station   \n",
      "12            District             Ealing Broadway Underground Station   \n",
      "13            District             Ealing Broadway Underground Station   \n",
      "14            District                  Tower Hill Underground Station   \n",
      "15            District                   Wimbledon Underground Station   \n",
      "16            District                     Barking Underground Station   \n",
      "17            District                                             NaN   \n",
      "18  Hammersmith & City                                             NaN   \n",
      "\n",
      "              platformName  timeToStation  minutesToArrival  \n",
      "0   Eastbound - Platform 3             48               1.0  \n",
      "1   Eastbound - Platform 3            468               8.0  \n",
      "2   Eastbound - Platform 3           1068              18.0  \n",
      "3   Westbound - Platform 1            228               4.0  \n",
      "4   Westbound - Platform 1            828              14.0  \n",
      "5   Westbound - Platform 1           1368              23.0  \n",
      "6   Eastbound - Platform 3            587              10.0  \n",
      "7   Westbound - Platform 1            168               3.0  \n",
      "8   Westbound - Platform 1            648              11.0  \n",
      "9   Westbound - Platform 1           1248              21.0  \n",
      "10  Eastbound - Platform 3            137               2.0  \n",
      "11  Eastbound - Platform 3            707              12.0  \n",
      "12  Westbound - Platform 1            348               6.0  \n",
      "13  Westbound - Platform 1            948              16.0  \n",
      "14  Eastbound - Platform 3            767              13.0  \n",
      "15  Westbound - Platform 1            528               9.0  \n",
      "16  Eastbound - Platform 3            227               4.0  \n",
      "17  Westbound - Platform 1           1128              19.0  \n",
      "18  Westbound - Platform 1           1128              19.0  \n"
     ]
    }
   ],
   "source": [
    "df[\"minutesToArrival\"] = round(df[\"timeToStation\"] / 60 ) \n",
    "## Now print df below again  ↓\n",
    "print(df)"
   ]
  },
  {
   "cell_type": "markdown",
   "id": "297ecc0f-1192-4b85-88ed-077b2e4487a8",
   "metadata": {},
   "source": [
    "#### ⭐⭐ Woohoo!! Now things are looking familiar!\n",
    "</br>\n",
    "\n",
    "### b)🤏Filtering Our DataFrame\n",
    "* I take the District home - so that's what I care about and want to filter for "
   ]
  },
  {
   "cell_type": "code",
   "execution_count": 42,
   "id": "2b89cb08-cd9c-4146-a516-0e9fbe1fac68",
   "metadata": {},
   "outputs": [
    {
     "name": "stdout",
     "output_type": "stream",
     "text": [
      "    lineName                      destinationName            platformName  \\\n",
      "4   District         Richmond Underground Station  Westbound - Platform 1   \n",
      "5   District         Richmond Underground Station  Westbound - Platform 1   \n",
      "6   District         Richmond Underground Station  Westbound - Platform 1   \n",
      "7   District         Richmond Underground Station  Westbound - Platform 1   \n",
      "8   District        Upminster Underground Station  Eastbound - Platform 3   \n",
      "9   District        Upminster Underground Station  Eastbound - Platform 3   \n",
      "10  District  Ealing Broadway Underground Station  Westbound - Platform 1   \n",
      "11  District  Ealing Broadway Underground Station  Westbound - Platform 1   \n",
      "12  District  Ealing Broadway Underground Station  Westbound - Platform 1   \n",
      "13  District  Ealing Broadway Underground Station  Westbound - Platform 1   \n",
      "14  District  Ealing Broadway Underground Station  Westbound - Platform 1   \n",
      "15  District        Upminster Underground Station  Eastbound - Platform 3   \n",
      "16  District        Upminster Underground Station  Eastbound - Platform 3   \n",
      "17  District        Wimbledon Underground Station  Westbound - Platform 1   \n",
      "18  District          Barking Underground Station  Eastbound - Platform 3   \n",
      "19  District        Wimbledon Underground Station  Westbound - Platform 1   \n",
      "20  District        Wimbledon Underground Station  Westbound - Platform 1   \n",
      "21  District  Ealing Broadway Underground Station  Westbound - Platform 1   \n",
      "\n",
      "    timeToStation  \n",
      "4             394  \n",
      "5            1054  \n",
      "6             934  \n",
      "7            1594  \n",
      "8              94  \n",
      "9             633  \n",
      "10            123  \n",
      "11            333  \n",
      "12            514  \n",
      "13            694  \n",
      "14           1294  \n",
      "15              6  \n",
      "16            393  \n",
      "17              5  \n",
      "18            213  \n",
      "19            153  \n",
      "20             63  \n",
      "21            243  \n"
     ]
    }
   ],
   "source": [
    "district_trains = df[df[\"lineName\"] == \"District\"]\n",
    "print(district_trains)"
   ]
  },
  {
   "cell_type": "markdown",
   "id": "a28c524b-329f-4b86-b555-1aebcc634a20",
   "metadata": {},
   "source": [
    "### b)📂 Saving Our DataFrame\n",
    "Now I want to save my really useful train data somewhere. \n",
    "I can use .to_csv to do that:\n",
    "* I will neeed to give it a name as well\n"
   ]
  },
  {
   "cell_type": "code",
   "execution_count": 61,
   "id": "0a73ac6b-314f-4785-a891-5dce78620242",
   "metadata": {},
   "outputs": [],
   "source": [
    "district_trains.to_csv(\"circle_trains.csv\")"
   ]
  },
  {
   "cell_type": "markdown",
   "id": "5f8f0217-d3e9-46ca-88da-40fc82374388",
   "metadata": {},
   "source": [
    "### Congratulations!! 🥳\n",
    "You've now...\n",
    "* Called an API \n",
    "* Pulled some data \n",
    "* Cleaned it\n",
    "* Filtered it \n",
    "* And saved it!!\n"
   ]
  },
  {
   "cell_type": "code",
   "execution_count": null,
   "id": "b4eee1d3-a132-4814-a15a-005fc8d47242",
   "metadata": {},
   "outputs": [],
   "source": []
  }
 ],
 "metadata": {
  "kernelspec": {
   "display_name": "Python 3 (ipykernel)",
   "language": "python",
   "name": "python3"
  },
  "language_info": {
   "codemirror_mode": {
    "name": "ipython",
    "version": 3
   },
   "file_extension": ".py",
   "mimetype": "text/x-python",
   "name": "python",
   "nbconvert_exporter": "python",
   "pygments_lexer": "ipython3",
   "version": "3.10.10"
  }
 },
 "nbformat": 4,
 "nbformat_minor": 5
}
