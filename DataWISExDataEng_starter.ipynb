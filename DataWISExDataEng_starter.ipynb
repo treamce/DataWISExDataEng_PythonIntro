{
 "cells": [
  {
   "cell_type": "markdown",
   "id": "315a28f8-0500-43a6-a617-297256820e45",
   "metadata": {},
   "source": [
    "# DataWISE × DataEng: Python Intro Workshop\n",
    "\n",
    "Ready to dive into the world of Python?  \n",
    "\n",
    "---\n",
    "\n",
    "## 🚅 What We'll Cover\n",
    "- Some basic building blocks used in Python\n",
    "- Calling an API using a Python script\n",
    "\n",
    "---\n",
    "\n",
    "Let's get pythoning! 🐍🐍🐍\n",
    "\n",
    "\n",
    "\n",
    "\n",
    "\n"
   ]
  },
  {
   "cell_type": "markdown",
   "id": "f2cc5900-18f6-48ce-aa53-f767227de391",
   "metadata": {},
   "source": [
    "## 1. What is Python?? \n",
    "#### ... and how does it work?\n",
    "\n",
    "- Like we talked about, Python is a way we can communicate with our computer and ask it to do things for us.\n",
    "- Let's start with the simplest of Python commands - print()"
   ]
  },
  {
   "cell_type": "code",
   "execution_count": 21,
   "id": "c3d48673-9c7e-4291-b17d-9e0ac5d3a03b",
   "metadata": {},
   "outputs": [],
   "source": [
    "# In this cell enter your code below! ↓\n"
   ]
  },
  {
   "cell_type": "markdown",
   "id": "23ac7926-f3d1-4dbd-9fd0-8e50da25f418",
   "metadata": {},
   "source": [
    "Wow - it's like magic - but on a computer!"
   ]
  },
  {
   "cell_type": "markdown",
   "id": "b8e93652-c7b0-48e7-9705-ca6262297436",
   "metadata": {},
   "source": [
    "---\n",
    "## 2. 📦 Storing Useful Info\n",
    "### a) Variables \n",
    "A variable stores a value, so that you can use it in your code later.\n",
    "For this example - and because we will be using it later - I want to set a variable to be \"Mansion House\"\n",
    "* Name is the variable\n",
    "* \"Mansion House\" is the value\n",
    "* = means \"store this variable\"\n"
   ]
  },
  {
   "cell_type": "code",
   "execution_count": 9,
   "id": "5fb7cab8-43f9-4803-9747-9b79f1c77668",
   "metadata": {},
   "outputs": [],
   "source": [
    "# Enter your first variable ↓\n"
   ]
  },
  {
   "cell_type": "markdown",
   "id": "56cbaa85-516e-4658-907f-15f4deaa42c6",
   "metadata": {},
   "source": [
    "### b) Lists\n",
    "A list is a store of a group of values in one variable. \n",
    "We use square brackets to wrap around this list of values."
   ]
  },
  {
   "cell_type": "code",
   "execution_count": 10,
   "id": "bc8dea4b-8370-4c2a-a8bd-0f74baba9fef",
   "metadata": {},
   "outputs": [],
   "source": [
    "# Add more names of some super cool TILers here ↓\n",
    "really_cool_TILers = [\"Trea\",\"Zoe\",\"Pave\"]"
   ]
  },
  {
   "cell_type": "markdown",
   "id": "b08937f6-9df9-49bf-8f91-acfd6fb78134",
   "metadata": {},
   "source": [
    "We can then call the list based on the list order using print from earlier. \n",
    "We can even add in extra text to print too if we add it in like this \"TEXT\"...\n",
    "\n",
    "🧠Note - Python counts from 0 🧠"
   ]
  },
  {
   "cell_type": "code",
   "execution_count": 11,
   "id": "7bf939e9-3390-4bf0-8e6e-d15a1c62d934",
   "metadata": {},
   "outputs": [
    {
     "name": "stdout",
     "output_type": "stream",
     "text": [
      "Trea is the coolest TILer\n"
     ]
    }
   ],
   "source": [
    "really_cool_TILers = [\"Trea\",\"Zoe\",\"Pave\"]\n",
    "print(really_cool_TILers[0], \"is the coolest TILer\")"
   ]
  },
  {
   "cell_type": "markdown",
   "id": "fa02b07a-d6a1-468d-b809-001e3dae4d7c",
   "metadata": {},
   "source": [
    "### c) Dictionaries\n",
    "A dictionary is a collection of key value pairs.\n",
    "Dictionaries can contain multiple data types as well as lists."
   ]
  },
  {
   "cell_type": "code",
   "execution_count": 12,
   "id": "06eeb004-bcf8-4df5-a0c2-7c0f142a9859",
   "metadata": {},
   "outputs": [
    {
     "name": "stdout",
     "output_type": "stream",
     "text": [
      "Trea's cohort is 38\n",
      "Pave watches too much Love Island\n"
     ]
    }
   ],
   "source": [
    "trea = {\n",
    "  \"cohort\": 38,\n",
    "  \"specialist_subject\": \"Flight codes\",\n",
    "  \"starsign\": \"Leo\"\n",
    "}\n",
    "\n",
    "pave = {\n",
    "  \"cohort\": 43,\n",
    "  \"specialist_subject\": \"Love Island\",\n",
    "  \"starsign\": \"Capricorn\"\n",
    "}\n",
    "\n",
    "print(\"Trea's cohort is\", trea[\"cohort\"])\n",
    "\n",
    "print(\"Pave watches too much\", pave[\"specialist_subject\"])\n"
   ]
  },
  {
   "cell_type": "markdown",
   "id": "cabac320-280c-408d-ae00-245a8eac4482",
   "metadata": {},
   "source": [
    "* 'trea' and 'pave' are the names we are assigning to the dictionaries\n",
    "* Each dictionary contains 3 key value pairs\n",
    "* The syntax used is what defines these as dictionaries"
   ]
  },
  {
   "cell_type": "markdown",
   "id": "13afb264-e3ea-40e8-9859-2799d34a6980",
   "metadata": {},
   "source": [
    "---\n",
    "## 3.  📚 Libraries \n",
    "#### Bringing in functions to do things for us\n",
    "We need to import a library/tool that will let us connect to the internet. \n",
    "<br>\n",
    "It's called the requests library - and is one of the most useful libraries out there. \n",
    "<br>\n",
    "Basically in short - it will let us talk to the TFL api on the internet.\n"
   ]
  },
  {
   "cell_type": "code",
   "execution_count": 13,
   "id": "894867cb-f808-420a-9377-0b58410d3961",
   "metadata": {},
   "outputs": [],
   "source": [
    "# Import the requests library using import + the name of the library ↓\n"
   ]
  },
  {
   "cell_type": "markdown",
   "id": "60373341-df6c-49b2-a24d-bf14fa33a241",
   "metadata": {},
   "source": [
    "---\n",
    "## 4. 📞 Calling the API \n",
    "We need to give the requests library a URL to request from, we can do this by setting a variable like we learned earlier. \n",
    "We can grab the TFL URL from their API documentation site - https://api.tfl.gov.uk/\n",
    "</br>\n",
    "Then we need to set up the rest of our code: \n",
    "- requests.get(url) sends the request\n",
    "- response holds the reply from TfL"
   ]
  },
  {
   "cell_type": "code",
   "execution_count": 17,
   "id": "a15409d0-d7df-456a-bd05-e5b0d13c9c3b",
   "metadata": {},
   "outputs": [
    {
     "ename": "SyntaxError",
     "evalue": "invalid syntax (891161171.py, line 8)",
     "output_type": "error",
     "traceback": [
      "\u001b[0;36m  Cell \u001b[0;32mIn[17], line 8\u001b[0;36m\u001b[0m\n\u001b[0;31m    response =\u001b[0m\n\u001b[0m               ^\u001b[0m\n\u001b[0;31mSyntaxError\u001b[0m\u001b[0;31m:\u001b[0m invalid syntax\n"
     ]
    }
   ],
   "source": [
    "## Importing the library \n",
    "import requests \n",
    "\n",
    "## Setting the url variable - here is a lovely one I prepared earlier \n",
    "url = \"https://api.tfl.gov.uk/StopPoint/Search/Mansion%20House\"\n",
    "\n",
    "## Defining a new variable called response that uses the requests library to \"get\" from the TFL API url ↓\n",
    "response = \n",
    "\n",
    "## Printing the response from the URL and seeing what it looks like ↓\n"
   ]
  },
  {
   "cell_type": "markdown",
   "id": "c2935c3c-b96f-41a6-95ee-d1aec6fa7b95",
   "metadata": {},
   "source": [
    "## 5. ℹ️ Pulling Through Data From the API \n",
    "APIs respond with JSON, which is like a big text based dictionary - so we're going to have to pull through this JSON and figure out how to read it/what to do with it. \n",
    "</br> \n",
    "We can use one of the IDs pulled through earlier.\n",
    "</br> \n",
    "\"940GZZLUMSH\"  - Mansion House Station ID 🏠"
   ]
  },
  {
   "cell_type": "code",
   "execution_count": 27,
   "id": "b83b2444-d899-4174-a756-ef295da9e73d",
   "metadata": {},
   "outputs": [
    {
     "name": "stdout",
     "output_type": "stream",
     "text": [
      "[{'$type': 'Tfl.Api.Presentation.Entities.Prediction, Tfl.Api.Presentation.Entities', 'id': '3935634', 'operationType': 1, 'vehicleId': '204', 'naptanId': '940GZZLUMSH', 'stationName': 'Mansion House Underground Station', 'lineId': 'circle', 'lineName': 'Circle', 'platformName': 'Westbound - Platform 1', 'direction': 'outbound', 'bearing': '', 'destinationNaptanId': '940GZZLUERC', 'destinationName': 'Edgware Road (Circle Line) Underground Station', 'timestamp': '2025-06-26T09:43:08.2619273Z', 'timeToStation': 567, 'currentLocation': 'At Moorgate Platform 1', 'towards': 'Edgware Road (Circle)', 'expectedArrival': '2025-06-26T09:52:35Z', 'timeToLive': '2025-06-26T09:52:35Z', 'modeName': 'tube', 'timing': {'$type': 'Tfl.Api.Presentation.Entities.PredictionTiming, Tfl.Api.Presentation.Entities', 'countdownServerAdjustment': '00:00:00', 'source': '0001-01-01T00:00:00', 'insert': '0001-01-01T00:00:00', 'read': '2025-06-26T09:41:47.679Z', 'sent': '2025-06-26T09:43:08Z', 'received': '0001-01-01T00:00:00'}}, {'$type': 'Tfl.Api.Presentation.Entities.Prediction, Tfl.Api.Presentation.Entities', 'id': '-1521108439', 'operationType': 1, 'vehicleId': '205', 'naptanId': '940GZZLUMSH', 'stationName': 'Mansion House Underground Station', 'lineId': 'circle', 'lineName': 'Circle', 'platformName': 'Westbound - Platform 1', 'direction': 'outbound', 'bearing': '', 'destinationNaptanId': '940GZZLUERC', 'destinationName': 'Edgware Road (Circle Line) Underground Station', 'timestamp': '2025-06-26T09:43:08.2619273Z', 'timeToStation': 747, 'currentLocation': 'Between Kings Cross St. Pancras and Farringdon', 'towards': 'Edgware Road (Circle)', 'expectedArrival': '2025-06-26T09:55:35Z', 'timeToLive': '2025-06-26T09:55:35Z', 'modeName': 'tube', 'timing': {'$type': 'Tfl.Api.Presentation.Entities.PredictionTiming, Tfl.Api.Presentation.Entities', 'countdownServerAdjustment': '00:00:00', 'source': '0001-01-01T00:00:00', 'insert': '0001-01-01T00:00:00', 'read': '2025-06-26T09:41:47.679Z', 'sent': '2025-06-26T09:43:08Z', 'received': '0001-01-01T00:00:00'}}, {'$type': 'Tfl.Api.Presentation.Entities.Prediction, Tfl.Api.Presentation.Entities', 'id': '-957204788', 'operationType': 1, 'vehicleId': '216', 'naptanId': '940GZZLUMSH', 'stationName': 'Mansion House Underground Station', 'lineId': 'circle', 'lineName': 'Circle', 'platformName': 'Eastbound - Platform 3', 'direction': 'inbound', 'bearing': '', 'destinationNaptanId': '940GZZLUHSC', 'destinationName': 'Hammersmith (H&C Line) Underground Station', 'timestamp': '2025-06-26T09:43:08.2619273Z', 'timeToStation': 508, 'currentLocation': 'Between Sloane Square and Victoria', 'towards': 'Hammersmith', 'expectedArrival': '2025-06-26T09:51:36Z', 'timeToLive': '2025-06-26T09:51:36Z', 'modeName': 'tube', 'timing': {'$type': 'Tfl.Api.Presentation.Entities.PredictionTiming, Tfl.Api.Presentation.Entities', 'countdownServerAdjustment': '00:00:00', 'source': '0001-01-01T00:00:00', 'insert': '0001-01-01T00:00:00', 'read': '2025-06-26T09:41:47.679Z', 'sent': '2025-06-26T09:43:08Z', 'received': '0001-01-01T00:00:00'}}, {'$type': 'Tfl.Api.Presentation.Entities.Prediction, Tfl.Api.Presentation.Entities', 'id': '1745593187', 'operationType': 1, 'vehicleId': '217', 'naptanId': '940GZZLUMSH', 'stationName': 'Mansion House Underground Station', 'lineId': 'circle', 'lineName': 'Circle', 'platformName': 'Eastbound - Platform 3', 'direction': 'inbound', 'bearing': '', 'destinationNaptanId': '940GZZLUHSC', 'destinationName': 'Hammersmith (H&C Line) Underground Station', 'timestamp': '2025-06-26T09:43:08.2619273Z', 'timeToStation': 1048, 'currentLocation': 'Left Notting Hill Gate', 'towards': 'Hammersmith', 'expectedArrival': '2025-06-26T10:00:36Z', 'timeToLive': '2025-06-26T10:00:36Z', 'modeName': 'tube', 'timing': {'$type': 'Tfl.Api.Presentation.Entities.PredictionTiming, Tfl.Api.Presentation.Entities', 'countdownServerAdjustment': '00:00:00', 'source': '0001-01-01T00:00:00', 'insert': '0001-01-01T00:00:00', 'read': '2025-06-26T09:41:47.679Z', 'sent': '2025-06-26T09:43:08Z', 'received': '0001-01-01T00:00:00'}}, {'$type': 'Tfl.Api.Presentation.Entities.Prediction, Tfl.Api.Presentation.Entities', 'id': '466006842', 'operationType': 1, 'vehicleId': '003', 'naptanId': '940GZZLUMSH', 'stationName': 'Mansion House Underground Station', 'lineId': 'district', 'lineName': 'District', 'platformName': 'Westbound - Platform 1', 'direction': 'inbound', 'bearing': '', 'destinationNaptanId': '940GZZLURMD', 'destinationName': 'Richmond Underground Station', 'timestamp': '2025-06-26T09:43:08.2619273Z', 'timeToStation': 394, 'currentLocation': 'Approaching Aldgate East Platform 1', 'towards': 'Richmond', 'expectedArrival': '2025-06-26T09:49:42Z', 'timeToLive': '2025-06-26T09:49:42Z', 'modeName': 'tube', 'timing': {'$type': 'Tfl.Api.Presentation.Entities.PredictionTiming, Tfl.Api.Presentation.Entities', 'countdownServerAdjustment': '00:00:00', 'source': '0001-01-01T00:00:00', 'insert': '0001-01-01T00:00:00', 'read': '2025-06-26T09:43:14.792Z', 'sent': '2025-06-26T09:43:08Z', 'received': '0001-01-01T00:00:00'}}, {'$type': 'Tfl.Api.Presentation.Entities.Prediction, Tfl.Api.Presentation.Entities', 'id': '-987877801', 'operationType': 1, 'vehicleId': '004', 'naptanId': '940GZZLUMSH', 'stationName': 'Mansion House Underground Station', 'lineId': 'district', 'lineName': 'District', 'platformName': 'Westbound - Platform 1', 'direction': 'inbound', 'bearing': '', 'destinationNaptanId': '940GZZLURMD', 'destinationName': 'Richmond Underground Station', 'timestamp': '2025-06-26T09:43:08.2619273Z', 'timeToStation': 1054, 'currentLocation': 'At Bromley-by-Bow Platform 1', 'towards': 'Richmond', 'expectedArrival': '2025-06-26T10:00:42Z', 'timeToLive': '2025-06-26T10:00:42Z', 'modeName': 'tube', 'timing': {'$type': 'Tfl.Api.Presentation.Entities.PredictionTiming, Tfl.Api.Presentation.Entities', 'countdownServerAdjustment': '00:00:00', 'source': '0001-01-01T00:00:00', 'insert': '0001-01-01T00:00:00', 'read': '2025-06-26T09:43:14.792Z', 'sent': '2025-06-26T09:43:08Z', 'received': '0001-01-01T00:00:00'}}, {'$type': 'Tfl.Api.Presentation.Entities.Prediction, Tfl.Api.Presentation.Entities', 'id': '1618450928', 'operationType': 1, 'vehicleId': '005', 'naptanId': '940GZZLUMSH', 'stationName': 'Mansion House Underground Station', 'lineId': 'district', 'lineName': 'District', 'platformName': 'Westbound - Platform 1', 'direction': 'inbound', 'bearing': '', 'destinationNaptanId': '940GZZLURMD', 'destinationName': 'Richmond Underground Station', 'timestamp': '2025-06-26T09:43:08.2619273Z', 'timeToStation': 934, 'currentLocation': 'At Bow Road Platform 1', 'towards': 'Richmond', 'expectedArrival': '2025-06-26T09:58:42Z', 'timeToLive': '2025-06-26T09:58:42Z', 'modeName': 'tube', 'timing': {'$type': 'Tfl.Api.Presentation.Entities.PredictionTiming, Tfl.Api.Presentation.Entities', 'countdownServerAdjustment': '00:00:00', 'source': '0001-01-01T00:00:00', 'insert': '0001-01-01T00:00:00', 'read': '2025-06-26T09:43:14.792Z', 'sent': '2025-06-26T09:43:08Z', 'received': '0001-01-01T00:00:00'}}, {'$type': 'Tfl.Api.Presentation.Entities.Prediction, Tfl.Api.Presentation.Entities', 'id': '63902989', 'operationType': 1, 'vehicleId': '006', 'naptanId': '940GZZLUMSH', 'stationName': 'Mansion House Underground Station', 'lineId': 'district', 'lineName': 'District', 'platformName': 'Westbound - Platform 1', 'direction': 'inbound', 'bearing': '', 'destinationNaptanId': '940GZZLURMD', 'destinationName': 'Richmond Underground Station', 'timestamp': '2025-06-26T09:43:08.2619273Z', 'timeToStation': 1594, 'currentLocation': 'At Upton Park Platform 1', 'towards': 'Richmond', 'expectedArrival': '2025-06-26T10:09:42Z', 'timeToLive': '2025-06-26T10:09:42Z', 'modeName': 'tube', 'timing': {'$type': 'Tfl.Api.Presentation.Entities.PredictionTiming, Tfl.Api.Presentation.Entities', 'countdownServerAdjustment': '00:00:00', 'source': '0001-01-01T00:00:00', 'insert': '0001-01-01T00:00:00', 'read': '2025-06-26T09:43:14.792Z', 'sent': '2025-06-26T09:43:08Z', 'received': '0001-01-01T00:00:00'}}, {'$type': 'Tfl.Api.Presentation.Entities.Prediction, Tfl.Api.Presentation.Entities', 'id': '63968525', 'operationType': 1, 'vehicleId': '016', 'naptanId': '940GZZLUMSH', 'stationName': 'Mansion House Underground Station', 'lineId': 'district', 'lineName': 'District', 'platformName': 'Eastbound - Platform 3', 'direction': 'outbound', 'bearing': '', 'destinationNaptanId': '940GZZLUUPM', 'destinationName': 'Upminster Underground Station', 'timestamp': '2025-06-26T09:43:08.2619273Z', 'timeToStation': 94, 'currentLocation': 'At Blackfriars Platform 2', 'towards': 'Upminster', 'expectedArrival': '2025-06-26T09:44:42Z', 'timeToLive': '2025-06-26T09:44:42Z', 'modeName': 'tube', 'timing': {'$type': 'Tfl.Api.Presentation.Entities.PredictionTiming, Tfl.Api.Presentation.Entities', 'countdownServerAdjustment': '00:00:00', 'source': '0001-01-01T00:00:00', 'insert': '0001-01-01T00:00:00', 'read': '2025-06-26T09:43:14.792Z', 'sent': '2025-06-26T09:43:08Z', 'received': '0001-01-01T00:00:00'}}, {'$type': 'Tfl.Api.Presentation.Entities.Prediction, Tfl.Api.Presentation.Entities', 'id': '-1389789018', 'operationType': 1, 'vehicleId': '017', 'naptanId': '940GZZLUMSH', 'stationName': 'Mansion House Underground Station', 'lineId': 'district', 'lineName': 'District', 'platformName': 'Eastbound - Platform 3', 'direction': 'outbound', 'bearing': '', 'destinationNaptanId': '940GZZLUUPM', 'destinationName': 'Upminster Underground Station', 'timestamp': '2025-06-26T09:43:08.2619273Z', 'timeToStation': 633, 'currentLocation': 'At Sloane Square Platform 2', 'towards': 'Upminster', 'expectedArrival': '2025-06-26T09:53:41Z', 'timeToLive': '2025-06-26T09:53:41Z', 'modeName': 'tube', 'timing': {'$type': 'Tfl.Api.Presentation.Entities.PredictionTiming, Tfl.Api.Presentation.Entities', 'countdownServerAdjustment': '00:00:00', 'source': '0001-01-01T00:00:00', 'insert': '0001-01-01T00:00:00', 'read': '2025-06-26T09:43:14.792Z', 'sent': '2025-06-26T09:43:08Z', 'received': '0001-01-01T00:00:00'}}, {'$type': 'Tfl.Api.Presentation.Entities.Prediction, Tfl.Api.Presentation.Entities', 'id': '64034061', 'operationType': 1, 'vehicleId': '026', 'naptanId': '940GZZLUMSH', 'stationName': 'Mansion House Underground Station', 'lineId': 'district', 'lineName': 'District', 'platformName': 'Westbound - Platform 1', 'direction': 'inbound', 'bearing': '', 'destinationNaptanId': '940GZZLUEBY', 'destinationName': 'Ealing Broadway Underground Station', 'timestamp': '2025-06-26T09:43:08.2619273Z', 'timeToStation': 123, 'currentLocation': 'At Monument Platform 1', 'towards': 'Ealing Broadway', 'expectedArrival': '2025-06-26T09:45:11Z', 'timeToLive': '2025-06-26T09:45:11Z', 'modeName': 'tube', 'timing': {'$type': 'Tfl.Api.Presentation.Entities.PredictionTiming, Tfl.Api.Presentation.Entities', 'countdownServerAdjustment': '00:00:00', 'source': '0001-01-01T00:00:00', 'insert': '0001-01-01T00:00:00', 'read': '2025-06-26T09:43:14.792Z', 'sent': '2025-06-26T09:43:08Z', 'received': '0001-01-01T00:00:00'}}, {'$type': 'Tfl.Api.Presentation.Entities.Prediction, Tfl.Api.Presentation.Entities', 'id': '-1389723482', 'operationType': 1, 'vehicleId': '027', 'naptanId': '940GZZLUMSH', 'stationName': 'Mansion House Underground Station', 'lineId': 'district', 'lineName': 'District', 'platformName': 'Westbound - Platform 1', 'direction': 'inbound', 'bearing': '', 'destinationNaptanId': '940GZZLUEBY', 'destinationName': 'Ealing Broadway Underground Station', 'timestamp': '2025-06-26T09:43:08.2619273Z', 'timeToStation': 333, 'currentLocation': 'Left Aldgate East', 'towards': 'Ealing Broadway', 'expectedArrival': '2025-06-26T09:48:41Z', 'timeToLive': '2025-06-26T09:48:41Z', 'modeName': 'tube', 'timing': {'$type': 'Tfl.Api.Presentation.Entities.PredictionTiming, Tfl.Api.Presentation.Entities', 'countdownServerAdjustment': '00:00:00', 'source': '0001-01-01T00:00:00', 'insert': '0001-01-01T00:00:00', 'read': '2025-06-26T09:43:14.792Z', 'sent': '2025-06-26T09:43:08Z', 'received': '0001-01-01T00:00:00'}}, {'$type': 'Tfl.Api.Presentation.Entities.Prediction, Tfl.Api.Presentation.Entities', 'id': '868176107', 'operationType': 1, 'vehicleId': '030', 'naptanId': '940GZZLUMSH', 'stationName': 'Mansion House Underground Station', 'lineId': 'district', 'lineName': 'District', 'platformName': 'Westbound - Platform 1', 'direction': 'inbound', 'bearing': '', 'destinationNaptanId': '940GZZLUEBY', 'destinationName': 'Ealing Broadway Underground Station', 'timestamp': '2025-06-26T09:43:08.2619273Z', 'timeToStation': 514, 'currentLocation': 'Between Whitechapel and Aldgate East', 'towards': 'Ealing Broadway', 'expectedArrival': '2025-06-26T09:51:42Z', 'timeToLive': '2025-06-26T09:51:42Z', 'modeName': 'tube', 'timing': {'$type': 'Tfl.Api.Presentation.Entities.PredictionTiming, Tfl.Api.Presentation.Entities', 'countdownServerAdjustment': '00:00:00', 'source': '0001-01-01T00:00:00', 'insert': '0001-01-01T00:00:00', 'read': '2025-06-26T09:43:14.792Z', 'sent': '2025-06-26T09:43:08Z', 'received': '0001-01-01T00:00:00'}}, {'$type': 'Tfl.Api.Presentation.Entities.Prediction, Tfl.Api.Presentation.Entities', 'id': '-585577468', 'operationType': 1, 'vehicleId': '031', 'naptanId': '940GZZLUMSH', 'stationName': 'Mansion House Underground Station', 'lineId': 'district', 'lineName': 'District', 'platformName': 'Westbound - Platform 1', 'direction': 'inbound', 'bearing': '', 'destinationNaptanId': '940GZZLUEBY', 'destinationName': 'Ealing Broadway Underground Station', 'timestamp': '2025-06-26T09:43:08.2619273Z', 'timeToStation': 694, 'currentLocation': 'Left Whitechapel', 'towards': 'Ealing Broadway', 'expectedArrival': '2025-06-26T09:54:42Z', 'timeToLive': '2025-06-26T09:54:42Z', 'modeName': 'tube', 'timing': {'$type': 'Tfl.Api.Presentation.Entities.PredictionTiming, Tfl.Api.Presentation.Entities', 'countdownServerAdjustment': '00:00:00', 'source': '0001-01-01T00:00:00', 'insert': '0001-01-01T00:00:00', 'read': '2025-06-26T09:43:14.792Z', 'sent': '2025-06-26T09:43:08Z', 'received': '0001-01-01T00:00:00'}}, {'$type': 'Tfl.Api.Presentation.Entities.Prediction, Tfl.Api.Presentation.Entities', 'id': '2020624289', 'operationType': 1, 'vehicleId': '032', 'naptanId': '940GZZLUMSH', 'stationName': 'Mansion House Underground Station', 'lineId': 'district', 'lineName': 'District', 'platformName': 'Westbound - Platform 1', 'direction': 'inbound', 'bearing': '', 'destinationNaptanId': '940GZZLUEBY', 'destinationName': 'Ealing Broadway Underground Station', 'timestamp': '2025-06-26T09:43:08.2619273Z', 'timeToStation': 1294, 'currentLocation': 'At West Ham Platform 1', 'towards': 'Ealing Broadway', 'expectedArrival': '2025-06-26T10:04:42Z', 'timeToLive': '2025-06-26T10:04:42Z', 'modeName': 'tube', 'timing': {'$type': 'Tfl.Api.Presentation.Entities.PredictionTiming, Tfl.Api.Presentation.Entities', 'countdownServerAdjustment': '00:00:00', 'source': '0001-01-01T00:00:00', 'insert': '0001-01-01T00:00:00', 'read': '2025-06-26T09:43:14.792Z', 'sent': '2025-06-26T09:43:08Z', 'received': '0001-01-01T00:00:00'}}, {'$type': 'Tfl.Api.Presentation.Entities.Prediction, Tfl.Api.Presentation.Entities', 'id': '2020689825', 'operationType': 1, 'vehicleId': '042', 'naptanId': '940GZZLUMSH', 'stationName': 'Mansion House Underground Station', 'lineId': 'district', 'lineName': 'District', 'platformName': 'Eastbound - Platform 3', 'direction': 'outbound', 'bearing': '', 'destinationNaptanId': '940GZZLUUPM', 'destinationName': 'Upminster Underground Station', 'timestamp': '2025-06-26T09:43:08.2619273Z', 'timeToStation': 6, 'currentLocation': 'At Platform', 'towards': 'Upminster', 'expectedArrival': '2025-06-26T09:43:14Z', 'timeToLive': '2025-06-26T09:43:14Z', 'modeName': 'tube', 'timing': {'$type': 'Tfl.Api.Presentation.Entities.PredictionTiming, Tfl.Api.Presentation.Entities', 'countdownServerAdjustment': '00:00:00', 'source': '0001-01-01T00:00:00', 'insert': '0001-01-01T00:00:00', 'read': '2025-06-26T09:43:14.792Z', 'sent': '2025-06-26T09:43:08Z', 'received': '0001-01-01T00:00:00'}}, {'$type': 'Tfl.Api.Presentation.Entities.Prediction, Tfl.Api.Presentation.Entities', 'id': '466268986', 'operationType': 1, 'vehicleId': '043', 'naptanId': '940GZZLUMSH', 'stationName': 'Mansion House Underground Station', 'lineId': 'district', 'lineName': 'District', 'platformName': 'Eastbound - Platform 3', 'direction': 'outbound', 'bearing': '', 'destinationNaptanId': '940GZZLUUPM', 'destinationName': 'Upminster Underground Station', 'timestamp': '2025-06-26T09:43:08.2619273Z', 'timeToStation': 393, 'currentLocation': \"Between St James's Park and Westminster\", 'towards': 'Upminster', 'expectedArrival': '2025-06-26T09:49:41Z', 'timeToLive': '2025-06-26T09:49:41Z', 'modeName': 'tube', 'timing': {'$type': 'Tfl.Api.Presentation.Entities.PredictionTiming, Tfl.Api.Presentation.Entities', 'countdownServerAdjustment': '00:00:00', 'source': '0001-01-01T00:00:00', 'insert': '0001-01-01T00:00:00', 'read': '2025-06-26T09:43:14.792Z', 'sent': '2025-06-26T09:43:08Z', 'received': '0001-01-01T00:00:00'}}, {'$type': 'Tfl.Api.Presentation.Entities.Prediction, Tfl.Api.Presentation.Entities', 'id': '2020755361', 'operationType': 1, 'vehicleId': '052', 'naptanId': '940GZZLUMSH', 'stationName': 'Mansion House Underground Station', 'lineId': 'district', 'lineName': 'District', 'platformName': 'Westbound - Platform 1', 'direction': 'inbound', 'bearing': '', 'destinationNaptanId': '940GZZLUWIM', 'destinationName': 'Wimbledon Underground Station', 'timestamp': '2025-06-26T09:43:08.2619273Z', 'timeToStation': 5, 'currentLocation': 'At Platform', 'towards': 'Wimbledon', 'expectedArrival': '2025-06-26T09:43:13Z', 'timeToLive': '2025-06-26T09:43:13Z', 'modeName': 'tube', 'timing': {'$type': 'Tfl.Api.Presentation.Entities.PredictionTiming, Tfl.Api.Presentation.Entities', 'countdownServerAdjustment': '00:00:00', 'source': '0001-01-01T00:00:00', 'insert': '0001-01-01T00:00:00', 'read': '2025-06-26T09:43:14.792Z', 'sent': '2025-06-26T09:43:08Z', 'received': '0001-01-01T00:00:00'}}, {'$type': 'Tfl.Api.Presentation.Entities.Prediction, Tfl.Api.Presentation.Entities', 'id': '64230669', 'operationType': 1, 'vehicleId': '056', 'naptanId': '940GZZLUMSH', 'stationName': 'Mansion House Underground Station', 'lineId': 'district', 'lineName': 'District', 'platformName': 'Eastbound - Platform 3', 'direction': 'outbound', 'bearing': '', 'destinationNaptanId': '940GZZLUBKG', 'destinationName': 'Barking Underground Station', 'timestamp': '2025-06-26T09:43:08.2619273Z', 'timeToStation': 213, 'currentLocation': 'Between Embankment and Temple', 'towards': 'Barking', 'expectedArrival': '2025-06-26T09:46:41Z', 'timeToLive': '2025-06-26T09:46:41Z', 'modeName': 'tube', 'timing': {'$type': 'Tfl.Api.Presentation.Entities.PredictionTiming, Tfl.Api.Presentation.Entities', 'countdownServerAdjustment': '00:00:00', 'source': '0001-01-01T00:00:00', 'insert': '0001-01-01T00:00:00', 'read': '2025-06-26T09:43:14.792Z', 'sent': '2025-06-26T09:43:08Z', 'received': '0001-01-01T00:00:00'}}, {'$type': 'Tfl.Api.Presentation.Entities.Prediction, Tfl.Api.Presentation.Entities', 'id': '-585380860', 'operationType': 1, 'vehicleId': '061', 'naptanId': '940GZZLUMSH', 'stationName': 'Mansion House Underground Station', 'lineId': 'district', 'lineName': 'District', 'platformName': 'Westbound - Platform 1', 'direction': 'inbound', 'bearing': '', 'destinationNaptanId': '940GZZLUWIM', 'destinationName': 'Wimbledon Underground Station', 'timestamp': '2025-06-26T09:43:08.2619273Z', 'timeToStation': 153, 'currentLocation': 'Between Tower Hill and Monument', 'towards': 'Wimbledon', 'expectedArrival': '2025-06-26T09:45:41Z', 'timeToLive': '2025-06-26T09:45:41Z', 'modeName': 'tube', 'timing': {'$type': 'Tfl.Api.Presentation.Entities.PredictionTiming, Tfl.Api.Presentation.Entities', 'countdownServerAdjustment': '00:00:00', 'source': '0001-01-01T00:00:00', 'insert': '0001-01-01T00:00:00', 'read': '2025-06-26T09:43:14.792Z', 'sent': '2025-06-26T09:43:08Z', 'received': '0001-01-01T00:00:00'}}, {'$type': 'Tfl.Api.Presentation.Entities.Prediction, Tfl.Api.Presentation.Entities', 'id': '2020820897', 'operationType': 1, 'vehicleId': '062', 'naptanId': '940GZZLUMSH', 'stationName': 'Mansion House Underground Station', 'lineId': 'district', 'lineName': 'District', 'platformName': 'Westbound - Platform 1', 'direction': 'inbound', 'bearing': '', 'destinationNaptanId': '940GZZLUWIM', 'destinationName': 'Wimbledon Underground Station', 'timestamp': '2025-06-26T09:43:08.2619273Z', 'timeToStation': 63, 'currentLocation': 'At Cannon Street Platform 1', 'towards': 'Wimbledon', 'expectedArrival': '2025-06-26T09:44:11Z', 'timeToLive': '2025-06-26T09:44:11Z', 'modeName': 'tube', 'timing': {'$type': 'Tfl.Api.Presentation.Entities.PredictionTiming, Tfl.Api.Presentation.Entities', 'countdownServerAdjustment': '00:00:00', 'source': '0001-01-01T00:00:00', 'insert': '0001-01-01T00:00:00', 'read': '2025-06-26T09:43:14.792Z', 'sent': '2025-06-26T09:43:08Z', 'received': '0001-01-01T00:00:00'}}, {'$type': 'Tfl.Api.Presentation.Entities.Prediction, Tfl.Api.Presentation.Entities', 'id': '64034058', 'operationType': 1, 'vehicleId': '126', 'naptanId': '940GZZLUMSH', 'stationName': 'Mansion House Underground Station', 'lineId': 'district', 'lineName': 'District', 'platformName': 'Westbound - Platform 1', 'direction': 'inbound', 'bearing': '', 'destinationNaptanId': '940GZZLUEBY', 'destinationName': 'Ealing Broadway Underground Station', 'timestamp': '2025-06-26T09:43:08.2619273Z', 'timeToStation': 243, 'currentLocation': 'At Tower Hill Platform 1', 'towards': 'Ealing Broadway', 'expectedArrival': '2025-06-26T09:47:11Z', 'timeToLive': '2025-06-26T09:47:11Z', 'modeName': 'tube', 'timing': {'$type': 'Tfl.Api.Presentation.Entities.PredictionTiming, Tfl.Api.Presentation.Entities', 'countdownServerAdjustment': '00:00:00', 'source': '0001-01-01T00:00:00', 'insert': '0001-01-01T00:00:00', 'read': '2025-06-26T09:43:14.792Z', 'sent': '2025-06-26T09:43:08Z', 'received': '0001-01-01T00:00:00'}}, {'$type': 'Tfl.Api.Presentation.Entities.Prediction, Tfl.Api.Presentation.Entities', 'id': '-742633758', 'operationType': 1, 'vehicleId': '276', 'naptanId': '940GZZLUMSH', 'stationName': 'Mansion House Underground Station', 'lineId': 'hammersmith-city', 'lineName': 'Hammersmith & City', 'platformName': 'Westbound - Platform 1', 'direction': 'outbound', 'bearing': '', 'destinationNaptanId': '940GZZLUERC', 'destinationName': 'Edgware Road (Circle Line) Underground Station', 'timestamp': '2025-06-26T09:43:08.2619273Z', 'timeToStation': 315, 'currentLocation': 'At Edgware Road Platform 1', 'towards': 'Edgware Road', 'expectedArrival': '2025-06-26T09:48:23Z', 'timeToLive': '2025-06-26T09:48:23Z', 'modeName': 'tube', 'timing': {'$type': 'Tfl.Api.Presentation.Entities.PredictionTiming, Tfl.Api.Presentation.Entities', 'countdownServerAdjustment': '00:00:00', 'source': '0001-01-01T00:00:00', 'insert': '0001-01-01T00:00:00', 'read': '2025-06-26T09:22:57.19Z', 'sent': '2025-06-26T09:43:08Z', 'received': '0001-01-01T00:00:00'}}]\n"
     ]
    }
   ],
   "source": [
    "## Import requests like earlier  ↓\n",
    "\n",
    "\n",
    "## Set Manstion House as the stop ID variable  ↓\n",
    "stop_id = \n",
    "url = f\"https://api.tfl.gov.uk/StopPoint/{stop_id}/Arrivals\"\n",
    "\n",
    "## Set our response  ↓\n",
    "response = \n",
    "\n",
    "## Set our data  ↓\n",
    "data = response.json()\n",
    "\n",
    "print(data)"
   ]
  },
  {
   "cell_type": "markdown",
   "id": "c4fbcdd3-4fb6-4cfe-8fef-1e652258cea0",
   "metadata": {},
   "source": [
    "---\n",
    "## 5. 🚆 Looping Through the Arrivals \n",
    "We are going to be using something called a for loop!\n",
    "</br>\n",
    "A for loop lets us repeat a block of code for every item in a list - just like looping through rows in a dataset - almost like an iterative macro!\n",
    "In this example - our data is a list of dictionaries - like a table where each row has columns like lineName, destinationName etc. \n",
    "</br>\n",
    "Each item represents one arriving train - and I'm going to call each item a train\n",
    "</br>\n",
    "</br>\n",
    "for train in arrivals_data: says - Loop through every row in the list \n",
    "</br>\n",
    "And then inside the loop it: \n",
    "* Extract rows from the current \"row\"\n",
    "* Print() formats our data and shows the train arrival info in human friendly form\n",
    "\n",
    "\n"
   ]
  },
  {
   "cell_type": "code",
   "execution_count": 28,
   "id": "4cb5cd30-d9c8-4ef5-bcb2-0be5f5d75698",
   "metadata": {},
   "outputs": [
    {
     "name": "stdout",
     "output_type": "stream",
     "text": [
      "Circle line train to Edgware Road (Circle Line) Underground Station arriving in 9 minutes.\n",
      "Circle line train to Edgware Road (Circle Line) Underground Station arriving in 12 minutes.\n",
      "Circle line train to Hammersmith (H&C Line) Underground Station arriving in 8 minutes.\n",
      "Circle line train to Hammersmith (H&C Line) Underground Station arriving in 17 minutes.\n",
      "District line train to Richmond Underground Station arriving in 7 minutes.\n",
      "District line train to Richmond Underground Station arriving in 18 minutes.\n",
      "District line train to Richmond Underground Station arriving in 16 minutes.\n",
      "District line train to Richmond Underground Station arriving in 27 minutes.\n",
      "District line train to Upminster Underground Station arriving in 2 minutes.\n",
      "District line train to Upminster Underground Station arriving in 11 minutes.\n",
      "District line train to Ealing Broadway Underground Station arriving in 2 minutes.\n",
      "District line train to Ealing Broadway Underground Station arriving in 6 minutes.\n",
      "District line train to Ealing Broadway Underground Station arriving in 9 minutes.\n",
      "District line train to Ealing Broadway Underground Station arriving in 12 minutes.\n",
      "District line train to Ealing Broadway Underground Station arriving in 22 minutes.\n",
      "District line train to Upminster Underground Station arriving in 0 minutes.\n",
      "District line train to Upminster Underground Station arriving in 7 minutes.\n",
      "District line train to Wimbledon Underground Station arriving in 0 minutes.\n",
      "District line train to Barking Underground Station arriving in 4 minutes.\n",
      "District line train to Wimbledon Underground Station arriving in 3 minutes.\n",
      "District line train to Wimbledon Underground Station arriving in 1 minutes.\n",
      "District line train to Ealing Broadway Underground Station arriving in 4 minutes.\n",
      "Hammersmith & City line train to Edgware Road (Circle Line) Underground Station arriving in 5 minutes.\n"
     ]
    }
   ],
   "source": [
    "## Here is one I prepared earlier \n",
    "for train in data:\n",
    "    line = train[\"lineName\"]\n",
    "    destination = train[\"destinationName\"]\n",
    "    time = round(train[\"timeToStation\"]/60)\n",
    "\n",
    "    print(f\"{line} line train to {destination} arriving in {time} minutes.\")"
   ]
  },
  {
   "cell_type": "markdown",
   "id": "37d10c3b-0315-469d-b505-d0ac7d2472a1",
   "metadata": {},
   "source": [
    "---\n",
    "## ⭐ Extra Bit!! - 6. Getting Preppy With It!\n",
    "Now we are going to attempt to get our data into something that resembles the datasets we are used to working with - with nice columns and rows!!\n",
    "</br>\n",
    "</br>\n",
    "To do that - we need the help of another library called pandas - which lets us put things into dataframes - which is a table like structure. "
   ]
  },
  {
   "cell_type": "code",
   "execution_count": 29,
   "id": "5da84bc6-be38-4ef9-8a67-ce71fa1014da",
   "metadata": {},
   "outputs": [
    {
     "name": "stdout",
     "output_type": "stream",
     "text": [
      "Defaulting to user installation because normal site-packages is not writeable\n",
      "Requirement already satisfied: pandas in ./.local/lib/python3.10/site-packages (2.3.0)\n",
      "Requirement already satisfied: numpy>=1.22.4 in ./.local/lib/python3.10/site-packages (from pandas) (2.2.6)\n",
      "Requirement already satisfied: python-dateutil>=2.8.2 in /opt/tljh/user/lib/python3.10/site-packages (from pandas) (2.8.2)\n",
      "Requirement already satisfied: pytz>=2020.1 in ./.local/lib/python3.10/site-packages (from pandas) (2025.2)\n",
      "Requirement already satisfied: tzdata>=2022.7 in ./.local/lib/python3.10/site-packages (from pandas) (2025.2)\n",
      "Requirement already satisfied: six>=1.5 in /opt/tljh/user/lib/python3.10/site-packages (from python-dateutil>=2.8.2->pandas) (1.16.0)\n",
      "\n",
      "\u001b[1m[\u001b[0m\u001b[34;49mnotice\u001b[0m\u001b[1;39;49m]\u001b[0m\u001b[39;49m A new release of pip is available: \u001b[0m\u001b[31;49m23.3.1\u001b[0m\u001b[39;49m -> \u001b[0m\u001b[32;49m25.1.1\u001b[0m\n",
      "\u001b[1m[\u001b[0m\u001b[34;49mnotice\u001b[0m\u001b[1;39;49m]\u001b[0m\u001b[39;49m To update, run: \u001b[0m\u001b[32;49mpip install --upgrade pip\u001b[0m\n"
     ]
    }
   ],
   "source": [
    "!pip install pandas \n",
    "import pandas as pd"
   ]
  },
  {
   "cell_type": "code",
   "execution_count": 32,
   "id": "e9cf7aa1-4dd3-4d6e-9c29-572fde14accc",
   "metadata": {},
   "outputs": [
    {
     "name": "stdout",
     "output_type": "stream",
     "text": [
      "                                               $type           id  \\\n",
      "0  Tfl.Api.Presentation.Entities.Prediction, Tfl....      3935634   \n",
      "1  Tfl.Api.Presentation.Entities.Prediction, Tfl....  -1521108439   \n",
      "2  Tfl.Api.Presentation.Entities.Prediction, Tfl....   -957204788   \n",
      "3  Tfl.Api.Presentation.Entities.Prediction, Tfl....   1745593187   \n",
      "4  Tfl.Api.Presentation.Entities.Prediction, Tfl....    466006842   \n",
      "\n",
      "   operationType vehicleId     naptanId                        stationName  \\\n",
      "0              1       204  940GZZLUMSH  Mansion House Underground Station   \n",
      "1              1       205  940GZZLUMSH  Mansion House Underground Station   \n",
      "2              1       216  940GZZLUMSH  Mansion House Underground Station   \n",
      "3              1       217  940GZZLUMSH  Mansion House Underground Station   \n",
      "4              1       003  940GZZLUMSH  Mansion House Underground Station   \n",
      "\n",
      "     lineId  lineName            platformName direction  ...  \\\n",
      "0    circle    Circle  Westbound - Platform 1  outbound  ...   \n",
      "1    circle    Circle  Westbound - Platform 1  outbound  ...   \n",
      "2    circle    Circle  Eastbound - Platform 3   inbound  ...   \n",
      "3    circle    Circle  Eastbound - Platform 3   inbound  ...   \n",
      "4  district  District  Westbound - Platform 1   inbound  ...   \n",
      "\n",
      "  destinationNaptanId                                 destinationName  \\\n",
      "0         940GZZLUERC  Edgware Road (Circle Line) Underground Station   \n",
      "1         940GZZLUERC  Edgware Road (Circle Line) Underground Station   \n",
      "2         940GZZLUHSC      Hammersmith (H&C Line) Underground Station   \n",
      "3         940GZZLUHSC      Hammersmith (H&C Line) Underground Station   \n",
      "4         940GZZLURMD                    Richmond Underground Station   \n",
      "\n",
      "                      timestamp timeToStation  \\\n",
      "0  2025-06-26T09:43:08.2619273Z           567   \n",
      "1  2025-06-26T09:43:08.2619273Z           747   \n",
      "2  2025-06-26T09:43:08.2619273Z           508   \n",
      "3  2025-06-26T09:43:08.2619273Z          1048   \n",
      "4  2025-06-26T09:43:08.2619273Z           394   \n",
      "\n",
      "                                  currentLocation                towards  \\\n",
      "0                          At Moorgate Platform 1  Edgware Road (Circle)   \n",
      "1  Between Kings Cross St. Pancras and Farringdon  Edgware Road (Circle)   \n",
      "2              Between Sloane Square and Victoria            Hammersmith   \n",
      "3                          Left Notting Hill Gate            Hammersmith   \n",
      "4             Approaching Aldgate East Platform 1               Richmond   \n",
      "\n",
      "        expectedArrival            timeToLive modeName  \\\n",
      "0  2025-06-26T09:52:35Z  2025-06-26T09:52:35Z     tube   \n",
      "1  2025-06-26T09:55:35Z  2025-06-26T09:55:35Z     tube   \n",
      "2  2025-06-26T09:51:36Z  2025-06-26T09:51:36Z     tube   \n",
      "3  2025-06-26T10:00:36Z  2025-06-26T10:00:36Z     tube   \n",
      "4  2025-06-26T09:49:42Z  2025-06-26T09:49:42Z     tube   \n",
      "\n",
      "                                              timing  \n",
      "0  {'$type': 'Tfl.Api.Presentation.Entities.Predi...  \n",
      "1  {'$type': 'Tfl.Api.Presentation.Entities.Predi...  \n",
      "2  {'$type': 'Tfl.Api.Presentation.Entities.Predi...  \n",
      "3  {'$type': 'Tfl.Api.Presentation.Entities.Predi...  \n",
      "4  {'$type': 'Tfl.Api.Presentation.Entities.Predi...  \n",
      "\n",
      "[5 rows x 21 columns]\n"
     ]
    }
   ],
   "source": [
    "df = pd.DataFrame(data)\n",
    "\n",
    "## .head() lets us peak at the first five rows so we dont have mad loads of data coming back \n",
    "print(df.head())\n"
   ]
  },
  {
   "cell_type": "markdown",
   "id": "ee02747b-4b3c-430f-a030-3ed35ce6af38",
   "metadata": {},
   "source": [
    "### a) Cleaning Our DataFrame\n",
    "* Now we're going to just take some key columns as we don't need everything\n"
   ]
  },
  {
   "cell_type": "code",
   "execution_count": 33,
   "id": "e29684d0-0269-4dea-b043-508610615589",
   "metadata": {},
   "outputs": [
    {
     "name": "stdout",
     "output_type": "stream",
     "text": [
      "              lineName                                 destinationName  \\\n",
      "0               Circle  Edgware Road (Circle Line) Underground Station   \n",
      "1               Circle  Edgware Road (Circle Line) Underground Station   \n",
      "2               Circle      Hammersmith (H&C Line) Underground Station   \n",
      "3               Circle      Hammersmith (H&C Line) Underground Station   \n",
      "4             District                    Richmond Underground Station   \n",
      "5             District                    Richmond Underground Station   \n",
      "6             District                    Richmond Underground Station   \n",
      "7             District                    Richmond Underground Station   \n",
      "8             District                   Upminster Underground Station   \n",
      "9             District                   Upminster Underground Station   \n",
      "10            District             Ealing Broadway Underground Station   \n",
      "11            District             Ealing Broadway Underground Station   \n",
      "12            District             Ealing Broadway Underground Station   \n",
      "13            District             Ealing Broadway Underground Station   \n",
      "14            District             Ealing Broadway Underground Station   \n",
      "15            District                   Upminster Underground Station   \n",
      "16            District                   Upminster Underground Station   \n",
      "17            District                   Wimbledon Underground Station   \n",
      "18            District                     Barking Underground Station   \n",
      "19            District                   Wimbledon Underground Station   \n",
      "20            District                   Wimbledon Underground Station   \n",
      "21            District             Ealing Broadway Underground Station   \n",
      "22  Hammersmith & City  Edgware Road (Circle Line) Underground Station   \n",
      "\n",
      "              platformName  timeToStation  \n",
      "0   Westbound - Platform 1            567  \n",
      "1   Westbound - Platform 1            747  \n",
      "2   Eastbound - Platform 3            508  \n",
      "3   Eastbound - Platform 3           1048  \n",
      "4   Westbound - Platform 1            394  \n",
      "5   Westbound - Platform 1           1054  \n",
      "6   Westbound - Platform 1            934  \n",
      "7   Westbound - Platform 1           1594  \n",
      "8   Eastbound - Platform 3             94  \n",
      "9   Eastbound - Platform 3            633  \n",
      "10  Westbound - Platform 1            123  \n",
      "11  Westbound - Platform 1            333  \n",
      "12  Westbound - Platform 1            514  \n",
      "13  Westbound - Platform 1            694  \n",
      "14  Westbound - Platform 1           1294  \n",
      "15  Eastbound - Platform 3              6  \n",
      "16  Eastbound - Platform 3            393  \n",
      "17  Westbound - Platform 1              5  \n",
      "18  Eastbound - Platform 3            213  \n",
      "19  Westbound - Platform 1            153  \n",
      "20  Westbound - Platform 1             63  \n",
      "21  Westbound - Platform 1            243  \n",
      "22  Westbound - Platform 1            315  \n"
     ]
    }
   ],
   "source": [
    "\n",
    "df = df[[\"lineName\", \"destinationName\", \"platformName\", \"timeToStation\"]]\n",
    "## Now print df below \n"
   ]
  },
  {
   "cell_type": "markdown",
   "id": "07409989-fc3b-40dc-8e23-fea9aedb6952",
   "metadata": {},
   "source": [
    "* I also think we need to do something about our time column and create a minutes to arrival column"
   ]
  },
  {
   "cell_type": "code",
   "execution_count": 35,
   "id": "c2553393-8c4a-46fc-84b2-0dbc6e095747",
   "metadata": {},
   "outputs": [
    {
     "name": "stdout",
     "output_type": "stream",
     "text": [
      "              lineName                                 destinationName  \\\n",
      "0               Circle  Edgware Road (Circle Line) Underground Station   \n",
      "1               Circle  Edgware Road (Circle Line) Underground Station   \n",
      "2               Circle      Hammersmith (H&C Line) Underground Station   \n",
      "3               Circle      Hammersmith (H&C Line) Underground Station   \n",
      "4             District                    Richmond Underground Station   \n",
      "5             District                    Richmond Underground Station   \n",
      "6             District                    Richmond Underground Station   \n",
      "7             District                    Richmond Underground Station   \n",
      "8             District                   Upminster Underground Station   \n",
      "9             District                   Upminster Underground Station   \n",
      "10            District             Ealing Broadway Underground Station   \n",
      "11            District             Ealing Broadway Underground Station   \n",
      "12            District             Ealing Broadway Underground Station   \n",
      "13            District             Ealing Broadway Underground Station   \n",
      "14            District             Ealing Broadway Underground Station   \n",
      "15            District                   Upminster Underground Station   \n",
      "16            District                   Upminster Underground Station   \n",
      "17            District                   Wimbledon Underground Station   \n",
      "18            District                     Barking Underground Station   \n",
      "19            District                   Wimbledon Underground Station   \n",
      "20            District                   Wimbledon Underground Station   \n",
      "21            District             Ealing Broadway Underground Station   \n",
      "22  Hammersmith & City  Edgware Road (Circle Line) Underground Station   \n",
      "\n",
      "              platformName  timeToStation  minutesToArrival  \n",
      "0   Westbound - Platform 1            567               9.0  \n",
      "1   Westbound - Platform 1            747              12.0  \n",
      "2   Eastbound - Platform 3            508               8.0  \n",
      "3   Eastbound - Platform 3           1048              17.0  \n",
      "4   Westbound - Platform 1            394               7.0  \n",
      "5   Westbound - Platform 1           1054              18.0  \n",
      "6   Westbound - Platform 1            934              16.0  \n",
      "7   Westbound - Platform 1           1594              27.0  \n",
      "8   Eastbound - Platform 3             94               2.0  \n",
      "9   Eastbound - Platform 3            633              11.0  \n",
      "10  Westbound - Platform 1            123               2.0  \n",
      "11  Westbound - Platform 1            333               6.0  \n",
      "12  Westbound - Platform 1            514               9.0  \n",
      "13  Westbound - Platform 1            694              12.0  \n",
      "14  Westbound - Platform 1           1294              22.0  \n",
      "15  Eastbound - Platform 3              6               0.0  \n",
      "16  Eastbound - Platform 3            393               7.0  \n",
      "17  Westbound - Platform 1              5               0.0  \n",
      "18  Eastbound - Platform 3            213               4.0  \n",
      "19  Westbound - Platform 1            153               3.0  \n",
      "20  Westbound - Platform 1             63               1.0  \n",
      "21  Westbound - Platform 1            243               4.0  \n",
      "22  Westbound - Platform 1            315               5.0  \n"
     ]
    }
   ],
   "source": [
    "df[\"minutesToArrival\"] = round(df[\"timeToStation\"] / XX ) \n",
    "## Now print df below again  ↓\n"
   ]
  },
  {
   "cell_type": "markdown",
   "id": "297ecc0f-1192-4b85-88ed-077b2e4487a8",
   "metadata": {},
   "source": [
    "#### ⭐⭐ Woohoo!! Now things are looking familiar!\n",
    "</br>\n",
    "\n",
    "### b)🤏Filtering Our DataFrame\n",
    "* I take the District home - so that's what I care about and want to filter for "
   ]
  },
  {
   "cell_type": "code",
   "execution_count": 37,
   "id": "2b89cb08-cd9c-4146-a516-0e9fbe1fac68",
   "metadata": {},
   "outputs": [
    {
     "name": "stdout",
     "output_type": "stream",
     "text": [
      "    lineName                      destinationName            platformName  \\\n",
      "4   District         Richmond Underground Station  Westbound - Platform 1   \n",
      "5   District         Richmond Underground Station  Westbound - Platform 1   \n",
      "6   District         Richmond Underground Station  Westbound - Platform 1   \n",
      "7   District         Richmond Underground Station  Westbound - Platform 1   \n",
      "8   District        Upminster Underground Station  Eastbound - Platform 3   \n",
      "9   District        Upminster Underground Station  Eastbound - Platform 3   \n",
      "10  District  Ealing Broadway Underground Station  Westbound - Platform 1   \n",
      "11  District  Ealing Broadway Underground Station  Westbound - Platform 1   \n",
      "12  District  Ealing Broadway Underground Station  Westbound - Platform 1   \n",
      "13  District  Ealing Broadway Underground Station  Westbound - Platform 1   \n",
      "14  District  Ealing Broadway Underground Station  Westbound - Platform 1   \n",
      "15  District        Upminster Underground Station  Eastbound - Platform 3   \n",
      "16  District        Upminster Underground Station  Eastbound - Platform 3   \n",
      "17  District        Wimbledon Underground Station  Westbound - Platform 1   \n",
      "18  District          Barking Underground Station  Eastbound - Platform 3   \n",
      "19  District        Wimbledon Underground Station  Westbound - Platform 1   \n",
      "20  District        Wimbledon Underground Station  Westbound - Platform 1   \n",
      "21  District  Ealing Broadway Underground Station  Westbound - Platform 1   \n",
      "\n",
      "    timeToStation  minutesToArrival  \n",
      "4             394               7.0  \n",
      "5            1054              18.0  \n",
      "6             934              16.0  \n",
      "7            1594              27.0  \n",
      "8              94               2.0  \n",
      "9             633              11.0  \n",
      "10            123               2.0  \n",
      "11            333               6.0  \n",
      "12            514               9.0  \n",
      "13            694              12.0  \n",
      "14           1294              22.0  \n",
      "15              6               0.0  \n",
      "16            393               7.0  \n",
      "17              5               0.0  \n",
      "18            213               4.0  \n",
      "19            153               3.0  \n",
      "20             63               1.0  \n",
      "21            243               4.0  \n"
     ]
    }
   ],
   "source": [
    "district_trains = df[df[\"lineName\"] == \"District\"]\n",
    "print(district_trains)"
   ]
  },
  {
   "cell_type": "code",
   "execution_count": null,
   "id": "1d5f9ce5-2ba1-462f-b9a9-318882f39232",
   "metadata": {},
   "outputs": [],
   "source": [
    "### b)📂 Saving Our DataFrame\n",
    "Now I want to save my really useful train data somewhere. \n",
    "I can use .to_csv to do that:\n",
    "* I will neeed to give it a name as well\n"
   ]
  },
  {
   "cell_type": "code",
   "execution_count": 38,
   "id": "0a73ac6b-314f-4785-a891-5dce78620242",
   "metadata": {},
   "outputs": [],
   "source": [
    "district_trains.to_csv(\"circle_trains.csv\")"
   ]
  },
  {
   "cell_type": "code",
   "execution_count": 39,
   "id": "32df5cc7-6283-4be4-987b-965d4c377db1",
   "metadata": {},
   "outputs": [
    {
     "ename": "SyntaxError",
     "evalue": "unterminated string literal (detected at line 2) (2708276723.py, line 2)",
     "output_type": "error",
     "traceback": [
      "\u001b[0;36m  Cell \u001b[0;32mIn[39], line 2\u001b[0;36m\u001b[0m\n\u001b[0;31m    You've now...\u001b[0m\n\u001b[0m       ^\u001b[0m\n\u001b[0;31mSyntaxError\u001b[0m\u001b[0;31m:\u001b[0m unterminated string literal (detected at line 2)\n"
     ]
    }
   ],
   "source": [
    "### Congratulations!! 🥳\n",
    "You've now...\n",
    "* Called an API \n",
    "* Pulled some data \n",
    "* Cleaned it\n",
    "* Filtered it \n",
    "* And saved it!!\n"
   ]
  },
  {
   "cell_type": "code",
   "execution_count": null,
   "id": "b4eee1d3-a132-4814-a15a-005fc8d47242",
   "metadata": {},
   "outputs": [],
   "source": []
  }
 ],
 "metadata": {
  "kernelspec": {
   "display_name": "Python 3 (ipykernel)",
   "language": "python",
   "name": "python3"
  },
  "language_info": {
   "codemirror_mode": {
    "name": "ipython",
    "version": 3
   },
   "file_extension": ".py",
   "mimetype": "text/x-python",
   "name": "python",
   "nbconvert_exporter": "python",
   "pygments_lexer": "ipython3",
   "version": "3.10.10"
  }
 },
 "nbformat": 4,
 "nbformat_minor": 5
}
